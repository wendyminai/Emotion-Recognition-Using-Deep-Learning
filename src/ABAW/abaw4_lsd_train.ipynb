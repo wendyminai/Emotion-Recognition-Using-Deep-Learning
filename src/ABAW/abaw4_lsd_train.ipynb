{
 "cells": [
  {
   "cell_type": "code",
   "execution_count": 1,
   "metadata": {},
   "outputs": [
    {
     "name": "stdout",
     "output_type": "stream",
     "text": [
      "env: CUDA_LAUNCH_BLOCKING=0\n",
      "env: CUDA_VISIBLE_DEVICES=0\n"
     ]
    }
   ],
   "source": [
    "%env CUDA_LAUNCH_BLOCKING=0\n",
    "%env CUDA_VISIBLE_DEVICES=0"
   ]
  },
  {
   "cell_type": "markdown",
   "metadata": {},
   "source": [
    "Install Real-ESRGAN from [repository](https://github.com/xinntao/Real-ESRGAN.git)\n",
    "\n",
    "Perform super-resolution for the training set with synthetic data using a similar command\n",
    "```\n",
    "for f in ANGRER DISGUST FEAR HAPPINESS SADNESS SURPRISE; do echo $f; CUDA_VISIBLE_DEVICES=0 python3 inference_realesrgan.py -n RealESRGAN_x4plus -i /home/HDD6TB/datasets/emotions/ABAW/eccv_4/training_set_synthetic_images/$f --face_enhance -s 2 -o /home/HDD6TB/datasets/emotions/ABAW/eccv_4/SR/training_set_synthetic_images/$f; done;\n",
    "```"
   ]
  },
  {
   "cell_type": "code",
   "execution_count": 2,
   "metadata": {},
   "outputs": [
    {
     "name": "stdout",
     "output_type": "stream",
     "text": [
      "/home/HDD6TB/datasets/emotions/ABAW/eccv_4/SR/training_set_synthetic_images /home/HDD6TB/datasets/emotions/ABAW/eccv_4/validation_set_real_images /home/HDD6TB/datasets/emotions/ABAW/eccv_4/lsd_test_data\n"
     ]
    }
   ],
   "source": [
    "import pathlib\n",
    "DATA_DIR = pathlib.Path('/home/HDD6TB/datasets/emotions/ABAW/eccv_4')\n",
    "#train_dir=DATA_DIR / 'training_set_synthetic_images'\n",
    "train_dir=DATA_DIR / 'SR/training_set_synthetic_images'\n",
    "test_dir=DATA_DIR / 'validation_set_real_images'\n",
    "final_test_dir=DATA_DIR / 'lsd_test_data'\n",
    "print(train_dir,test_dir,final_test_dir)"
   ]
  },
  {
   "cell_type": "code",
   "execution_count": 3,
   "metadata": {},
   "outputs": [],
   "source": [
    "import os\n",
    "from PIL import Image\n",
    "import cv2\n",
    "from sklearn.model_selection import train_test_split\n",
    "from sklearn import preprocessing\n",
    "from sklearn import svm\n",
    "from sklearn.ensemble import RandomForestClassifier,RandomForestRegressor\n",
    "from sklearn import svm,metrics,preprocessing\n",
    "from sklearn.neighbors import KNeighborsClassifier\n",
    "from sklearn.decomposition import PCA\n",
    "from sklearn.pipeline import Pipeline\n",
    "from sklearn.metrics import precision_score, recall_score, accuracy_score, f1_score,roc_auc_score,average_precision_score\n",
    "import mord\n",
    "\n",
    "from collections import defaultdict\n",
    "import os\n",
    "import glob\n",
    "import random\n",
    "import numpy as np\n",
    "from tqdm import tqdm\n",
    "import time\n",
    "import pickle\n",
    "import pandas as pd\n",
    "import random\n",
    "import csv  \n",
    "import matplotlib.pyplot as plt"
   ]
  },
  {
   "cell_type": "code",
   "execution_count": 4,
   "metadata": {},
   "outputs": [],
   "source": [
    "def one_hot_transfer(label,class_num):\n",
    "    return np.eye(class_num)[label]\n",
    "\n",
    "def metric_for_Exp(gt,pred,class_num=6):\n",
    "    # compute_acc\n",
    "    acc = accuracy_score(gt,pred)\n",
    "    # compute_F1\n",
    "    gt = one_hot_transfer(gt,class_num)\n",
    "    pred = one_hot_transfer(pred,class_num)\n",
    "    F1 = []\n",
    "    for i in range(class_num):\n",
    "        gt_ = gt[:,i]\n",
    "        pred_ = pred[:,i]\n",
    "        F1.append(f1_score(gt_.flatten(), pred_))\n",
    "    F1_mean = np.mean(F1)\n",
    "    return F1_mean,acc,F1"
   ]
  },
  {
   "cell_type": "markdown",
   "metadata": {},
   "source": [
    "# Train"
   ]
  },
  {
   "cell_type": "code",
   "execution_count": 5,
   "metadata": {},
   "outputs": [
    {
     "name": "stdout",
     "output_type": "stream",
     "text": [
      "Torch: 1.7.1+cu110\n"
     ]
    }
   ],
   "source": [
    "import glob\n",
    "from itertools import chain\n",
    "import os\n",
    "import random\n",
    "import zipfile\n",
    "\n",
    "import matplotlib.pyplot as plt\n",
    "import numpy as np\n",
    "import pandas as pd\n",
    "import torch\n",
    "import torch.nn as nn\n",
    "import torch.nn.functional as F\n",
    "import torch.optim as optim\n",
    "from PIL import Image\n",
    "from sklearn.model_selection import train_test_split\n",
    "from torch.optim.lr_scheduler import StepLR\n",
    "from torch.utils.data import DataLoader, Dataset\n",
    "from torchvision import datasets, transforms\n",
    "from tqdm.notebook import tqdm\n",
    "\n",
    "\n",
    "print(f\"Torch: {torch.__version__}\")"
   ]
  },
  {
   "cell_type": "code",
   "execution_count": 6,
   "metadata": {},
   "outputs": [
    {
     "name": "stdout",
     "output_type": "stream",
     "text": [
      "True\n"
     ]
    }
   ],
   "source": [
    "# Training settings\n",
    "batch_size = 64 #48# 96# 32 #40 #32 #16 #8 #\n",
    "epochs = 8\n",
    "lr = 3e-5\n",
    "gamma = 0.7\n",
    "seed = 42\n",
    "device = 'cuda'\n",
    "use_cuda = torch.cuda.is_available()\n",
    "print(use_cuda)"
   ]
  },
  {
   "cell_type": "code",
   "execution_count": 7,
   "metadata": {},
   "outputs": [],
   "source": [
    "if False:\n",
    "    PATH='enet_b2_8.pt'\n",
    "    #PATH='enet_b2_7.pt'\n",
    "    IMG_SIZE=260 #224 #\n",
    "else:\n",
    "    #PATH='enet_b0_7.pt'\n",
    "    #PATH='enet_b0_8_best_afew.pt'\n",
    "    #PATH='enet_b0_8_best_vgaf.pt'\n",
    "    \n",
    "    PATH='enet_b0_8_va_mtl.pt'\n",
    "    IMG_SIZE=224\n",
    "\n",
    "train_transforms = transforms.Compose(\n",
    "    [\n",
    "        #transforms.RandomRotation(degrees=10),\n",
    "        #transforms.RandomResizedCrop(IMG_SIZE),\n",
    "        #transforms.Resize((IMG_SIZE,IMG_SIZE)),\n",
    "        transforms.ColorJitter(brightness=0.3, contrast=0.3, saturation=0.3, hue=0.1),\n",
    "        transforms.Resize((IMG_SIZE,IMG_SIZE)),\n",
    "        transforms.RandomHorizontalFlip(),\n",
    "        transforms.ToTensor(),\n",
    "        transforms.Normalize(mean=[0.485, 0.456, 0.406],\n",
    "                                     std=[0.229, 0.224, 0.225])\n",
    "    ]\n",
    ")\n",
    "test_transforms = transforms.Compose(\n",
    "    [\n",
    "        transforms.Resize((IMG_SIZE,IMG_SIZE)),\n",
    "        transforms.ToTensor(),\n",
    "        transforms.Normalize(mean=[0.485, 0.456, 0.406],\n",
    "                                     std=[0.229, 0.224, 0.225])\n",
    "    ]\n",
    ")"
   ]
  },
  {
   "cell_type": "code",
   "execution_count": 8,
   "metadata": {},
   "outputs": [
    {
     "name": "stdout",
     "output_type": "stream",
     "text": [
      "/home/HDD6TB/datasets/emotions/ABAW/eccv_4/SR/training_set_synthetic_images /home/HDD6TB/datasets/emotions/ABAW/eccv_4/validation_set_real_images\n",
      "277251 4670\n"
     ]
    }
   ],
   "source": [
    "kwargs = {'num_workers': 4, 'pin_memory': True} if use_cuda else {}\n",
    "\n",
    "print(train_dir,test_dir)\n",
    "train_dataset = datasets.ImageFolder(root=train_dir, transform=train_transforms)\n",
    "train_loader = torch.utils.data.DataLoader(train_dataset, batch_size=batch_size, shuffle=True, **kwargs)\n",
    "test_dataset = datasets.ImageFolder(root=test_dir, transform=test_transforms)\n",
    "test_loader  = torch.utils.data.DataLoader(test_dataset, batch_size=batch_size, shuffle=False, **kwargs) \n",
    "\n",
    "print(len(train_dataset), len(test_dataset))"
   ]
  },
  {
   "cell_type": "code",
   "execution_count": 9,
   "metadata": {},
   "outputs": [
    {
     "name": "stdout",
     "output_type": "stream",
     "text": [
      "{'ANGRER': 0, 'DISGUST': 1, 'FEAR': 2, 'HAPPINESS': 3, 'SADNESS': 4, 'SURPRISE': 5}\n",
      "{0: 'ANGRER', 1: 'DISGUST', 2: 'FEAR', 3: 'HAPPINESS', 4: 'SADNESS', 5: 'SURPRISE'}\n"
     ]
    }
   ],
   "source": [
    "class_to_idx=train_dataset.class_to_idx\n",
    "print(class_to_idx)\n",
    "idx_to_class={idx:cls for cls,idx in class_to_idx.items()}\n",
    "print(idx_to_class)"
   ]
  },
  {
   "cell_type": "code",
   "execution_count": 10,
   "metadata": {},
   "outputs": [
    {
     "name": "stdout",
     "output_type": "stream",
     "text": [
      "[ 18286  15150  10923  73285 144631  14976] dict_values([2.5269878595646946, 3.0500660066006597, 4.230385425249474, 0.6305314866616634, 0.31949236332459846, 3.0855034722222223])\n"
     ]
    }
   ],
   "source": [
    "(unique, counts) = np.unique(train_dataset.targets, return_counts=True)\n",
    "cw=1/counts\n",
    "#cw/=cw.min()\n",
    "cw*=counts.mean()\n",
    "class_weights = {i:cwi for i,cwi in zip(unique,cw)}\n",
    "print(counts, class_weights.values())"
   ]
  },
  {
   "cell_type": "code",
   "execution_count": 11,
   "metadata": {},
   "outputs": [
    {
     "name": "stdout",
     "output_type": "stream",
     "text": [
      "6\n"
     ]
    }
   ],
   "source": [
    "num_classes=len(train_dataset.classes)\n",
    "print(num_classes)"
   ]
  },
  {
   "cell_type": "code",
   "execution_count": 12,
   "metadata": {},
   "outputs": [],
   "source": [
    "\"\"\" Label smooth \"\"\"\n",
    "def label_smooth(target, n_classes: int, label_smoothing=0.1):\n",
    "    # convert to one-hot\n",
    "    batch_size = target.size(0)\n",
    "    target = torch.unsqueeze(target, 1)\n",
    "    soft_target = torch.zeros((batch_size, n_classes), device=target.device)\n",
    "    soft_target.scatter_(1, target, 1)\n",
    "    # label smoothing\n",
    "    soft_target = soft_target * (1 - label_smoothing) + label_smoothing / n_classes\n",
    "    return soft_target\n",
    "\n",
    "def cross_entropy_loss_with_soft_target(pred, soft_target):\n",
    "    #logsoftmax = nn.LogSoftmax(dim=-1)\n",
    "    return torch.mean(torch.sum(- weights*soft_target * torch.nn.functional.log_softmax(pred, -1), 1))\n",
    "\n",
    "def cross_entropy_with_label_smoothing(pred, target):\n",
    "    soft_target = label_smooth(target, pred.size(1)) #num_classes) #\n",
    "    return cross_entropy_loss_with_soft_target(pred, soft_target)\n"
   ]
  },
  {
   "cell_type": "code",
   "execution_count": 13,
   "metadata": {},
   "outputs": [],
   "source": [
    "# loss function\n",
    "weights = torch.FloatTensor(list(class_weights.values())).cuda()\n",
    "if False:\n",
    "    criterion = nn.CrossEntropyLoss(weight=weights)\n",
    "    #criterion = nn.CrossEntropyLoss()\n",
    "else:\n",
    "    criterion=cross_entropy_with_label_smoothing"
   ]
  },
  {
   "cell_type": "code",
   "execution_count": 14,
   "metadata": {},
   "outputs": [],
   "source": [
    "import sys\n",
    "sys.path.append('../affectnet')\n",
    "from robust_optimization import RobustOptimizer\n",
    "\n",
    "import copy\n",
    "def train(model,n_epochs=epochs, learningrate=lr, robust=False, op=optim.Adam, need_train_acc=True):\n",
    "    # optimizer\n",
    "    if robust:\n",
    "        optimizer = RobustOptimizer(filter(lambda p: p.requires_grad, model.parameters()), op, lr=learningrate)\n",
    "        #print(optimizer)\n",
    "    else:\n",
    "        optimizer=op(filter(lambda p: p.requires_grad, model.parameters()), lr=learningrate)\n",
    "    # scheduler\n",
    "    #scheduler = StepLR(optimizer, step_size=1, gamma=gamma)\n",
    "    best_acc=0\n",
    "    best_model=None\n",
    "    for epoch in range(n_epochs):\n",
    "        epoch_loss = 0\n",
    "        epoch_accuracy = 0\n",
    "        model.train()\n",
    "        if True:\n",
    "            for data, label in tqdm(train_loader):\n",
    "                data = data.to(device)\n",
    "                label = label.to(device)\n",
    "\n",
    "                output = model(data)\n",
    "                loss = criterion(output, label)\n",
    "\n",
    "                if use_sam:\n",
    "                    #optimizer.zero_grad()\n",
    "                    loss.backward()\n",
    "                    optimizer.first_step(zero_grad=True)\n",
    "\n",
    "                    # second forward-backward pass\n",
    "                    output = model(data)\n",
    "                    loss = criterion(output, label)\n",
    "                    loss.backward()\n",
    "                    optimizer.second_step(zero_grad=True)\n",
    "                else:\n",
    "                    optimizer.zero_grad()\n",
    "                    loss.backward()\n",
    "                    optimizer.step()\n",
    "\n",
    "                if need_train_acc:\n",
    "                    acc = (output.argmax(dim=1) == label).float().mean()\n",
    "                    epoch_accuracy += acc / len(train_loader)\n",
    "                epoch_loss += loss / len(train_loader)\n",
    "\n",
    "        model.eval()\n",
    "        with torch.no_grad():\n",
    "            epoch_val_accuracy = 0\n",
    "            gt,pred=[],[]\n",
    "            for data, label in test_loader:\n",
    "                data = data.to(device)\n",
    "                \n",
    "                val_output = model(data)\n",
    "                if False:\n",
    "                    label = label.to(device)\n",
    "                    acc = (val_output.argmax(dim=1) == label).float().mean()\n",
    "                    epoch_val_accuracy += acc / len(test_loader)\n",
    "                else:\n",
    "                    gt.append(label)\n",
    "                    pred.append(val_output.argmax(dim=1).cpu())\n",
    "\n",
    "        gt=np.concatenate(gt)\n",
    "        pred=np.concatenate(pred)\n",
    "        print(gt.shape,pred.shape)\n",
    "        epoch_val_F1,epoch_val_accuracy,_=metric_for_Exp(gt,pred)\n",
    "        if need_train_acc:\n",
    "            print(f\"Epoch : {epoch+1} - loss : {epoch_loss:.4f} - acc: {epoch_accuracy:.4f} - val_acc: {epoch_val_accuracy:.4f} - val_f1: {epoch_val_F1:.4f}\\n\")\n",
    "        else:\n",
    "            #print(f\"Epoch : {epoch+1} - loss : {epoch_loss:.4f} - val_acc: {epoch_val_accuracy:.4f}\\n\")\n",
    "            print(f\"Epoch : {epoch+1} - loss : {epoch_loss:.4f} - val_acc: {epoch_val_accuracy:.4f} - val_f1: {epoch_val_F1:.4f}\\n\")\n",
    "        #epoch_val_F1=epoch_val_accuracy\n",
    "        if best_acc<epoch_val_F1:\n",
    "            best_acc=epoch_val_F1\n",
    "            best_model=copy.deepcopy(model.state_dict())\n",
    "        #scheduler.step()\n",
    "    \n",
    "    if best_model is not None:\n",
    "        model.load_state_dict(best_model)\n",
    "        print(f\"Best acc:{best_acc}\")\n",
    "        model.eval()\n",
    "        with torch.no_grad():\n",
    "            epoch_val_accuracy = 0\n",
    "            for data, label in test_loader:\n",
    "                data = data.to(device)\n",
    "                label = label.to(device)\n",
    "\n",
    "                val_output = model(data)\n",
    "                \n",
    "                acc = (val_output.argmax(dim=1) == label).float().mean()\n",
    "                epoch_val_accuracy += acc / len(test_loader)\n",
    "\n",
    "        print(\n",
    "            f\"val_acc: {epoch_val_accuracy:.4f}\\n\"\n",
    "        )\n",
    "    else:\n",
    "        print(f\"No best model Best acc:{best_acc}\")"
   ]
  },
  {
   "cell_type": "markdown",
   "metadata": {},
   "source": [
    "# Pre-trained CNN "
   ]
  },
  {
   "cell_type": "code",
   "execution_count": 15,
   "metadata": {},
   "outputs": [
    {
     "name": "stdout",
     "output_type": "stream",
     "text": [
      "enet_b0_8_va_mtl.pt\n",
      "EfficientNet(\n",
      "  (conv_stem): Conv2dSame(3, 32, kernel_size=(3, 3), stride=(2, 2), bias=False)\n",
      "  (bn1): BatchNorm2d(32, eps=0.001, momentum=0.1, affine=True, track_running_stats=True)\n",
      "  (act1): SiLU(inplace=True)\n",
      "  (blocks): Sequential(\n",
      "    (0): Sequential(\n",
      "      (0): DepthwiseSeparableConv(\n",
      "        (conv_dw): Conv2d(32, 32, kernel_size=(3, 3), stride=(1, 1), padding=(1, 1), groups=32, bias=False)\n",
      "        (bn1): BatchNorm2d(32, eps=0.001, momentum=0.1, affine=True, track_running_stats=True)\n",
      "        (act1): SiLU(inplace=True)\n",
      "        (se): SqueezeExcite(\n",
      "          (conv_reduce): Conv2d(32, 8, kernel_size=(1, 1), stride=(1, 1))\n",
      "          (act1): SiLU(inplace=True)\n",
      "          (conv_expand): Conv2d(8, 32, kernel_size=(1, 1), stride=(1, 1))\n",
      "        )\n",
      "        (conv_pw): Conv2d(32, 16, kernel_size=(1, 1), stride=(1, 1), bias=False)\n",
      "        (bn2): BatchNorm2d(16, eps=0.001, momentum=0.1, affine=True, track_running_stats=True)\n",
      "        (act2): Identity()\n",
      "      )\n",
      "    )\n",
      "    (1): Sequential(\n",
      "      (0): InvertedResidual(\n",
      "        (conv_pw): Conv2d(16, 96, kernel_size=(1, 1), stride=(1, 1), bias=False)\n",
      "        (bn1): BatchNorm2d(96, eps=0.001, momentum=0.1, affine=True, track_running_stats=True)\n",
      "        (act1): SiLU(inplace=True)\n",
      "        (conv_dw): Conv2dSame(96, 96, kernel_size=(3, 3), stride=(2, 2), groups=96, bias=False)\n",
      "        (bn2): BatchNorm2d(96, eps=0.001, momentum=0.1, affine=True, track_running_stats=True)\n",
      "        (act2): SiLU(inplace=True)\n",
      "        (se): SqueezeExcite(\n",
      "          (conv_reduce): Conv2d(96, 4, kernel_size=(1, 1), stride=(1, 1))\n",
      "          (act1): SiLU(inplace=True)\n",
      "          (conv_expand): Conv2d(4, 96, kernel_size=(1, 1), stride=(1, 1))\n",
      "        )\n",
      "        (conv_pwl): Conv2d(96, 24, kernel_size=(1, 1), stride=(1, 1), bias=False)\n",
      "        (bn3): BatchNorm2d(24, eps=0.001, momentum=0.1, affine=True, track_running_stats=True)\n",
      "      )\n",
      "      (1): InvertedResidual(\n",
      "        (conv_pw): Conv2d(24, 144, kernel_size=(1, 1), stride=(1, 1), bias=False)\n",
      "        (bn1): BatchNorm2d(144, eps=0.001, momentum=0.1, affine=True, track_running_stats=True)\n",
      "        (act1): SiLU(inplace=True)\n",
      "        (conv_dw): Conv2d(144, 144, kernel_size=(3, 3), stride=(1, 1), padding=(1, 1), groups=144, bias=False)\n",
      "        (bn2): BatchNorm2d(144, eps=0.001, momentum=0.1, affine=True, track_running_stats=True)\n",
      "        (act2): SiLU(inplace=True)\n",
      "        (se): SqueezeExcite(\n",
      "          (conv_reduce): Conv2d(144, 6, kernel_size=(1, 1), stride=(1, 1))\n",
      "          (act1): SiLU(inplace=True)\n",
      "          (conv_expand): Conv2d(6, 144, kernel_size=(1, 1), stride=(1, 1))\n",
      "        )\n",
      "        (conv_pwl): Conv2d(144, 24, kernel_size=(1, 1), stride=(1, 1), bias=False)\n",
      "        (bn3): BatchNorm2d(24, eps=0.001, momentum=0.1, affine=True, track_running_stats=True)\n",
      "      )\n",
      "    )\n",
      "    (2): Sequential(\n",
      "      (0): InvertedResidual(\n",
      "        (conv_pw): Conv2d(24, 144, kernel_size=(1, 1), stride=(1, 1), bias=False)\n",
      "        (bn1): BatchNorm2d(144, eps=0.001, momentum=0.1, affine=True, track_running_stats=True)\n",
      "        (act1): SiLU(inplace=True)\n",
      "        (conv_dw): Conv2dSame(144, 144, kernel_size=(5, 5), stride=(2, 2), groups=144, bias=False)\n",
      "        (bn2): BatchNorm2d(144, eps=0.001, momentum=0.1, affine=True, track_running_stats=True)\n",
      "        (act2): SiLU(inplace=True)\n",
      "        (se): SqueezeExcite(\n",
      "          (conv_reduce): Conv2d(144, 6, kernel_size=(1, 1), stride=(1, 1))\n",
      "          (act1): SiLU(inplace=True)\n",
      "          (conv_expand): Conv2d(6, 144, kernel_size=(1, 1), stride=(1, 1))\n",
      "        )\n",
      "        (conv_pwl): Conv2d(144, 40, kernel_size=(1, 1), stride=(1, 1), bias=False)\n",
      "        (bn3): BatchNorm2d(40, eps=0.001, momentum=0.1, affine=True, track_running_stats=True)\n",
      "      )\n",
      "      (1): InvertedResidual(\n",
      "        (conv_pw): Conv2d(40, 240, kernel_size=(1, 1), stride=(1, 1), bias=False)\n",
      "        (bn1): BatchNorm2d(240, eps=0.001, momentum=0.1, affine=True, track_running_stats=True)\n",
      "        (act1): SiLU(inplace=True)\n",
      "        (conv_dw): Conv2d(240, 240, kernel_size=(5, 5), stride=(1, 1), padding=(2, 2), groups=240, bias=False)\n",
      "        (bn2): BatchNorm2d(240, eps=0.001, momentum=0.1, affine=True, track_running_stats=True)\n",
      "        (act2): SiLU(inplace=True)\n",
      "        (se): SqueezeExcite(\n",
      "          (conv_reduce): Conv2d(240, 10, kernel_size=(1, 1), stride=(1, 1))\n",
      "          (act1): SiLU(inplace=True)\n",
      "          (conv_expand): Conv2d(10, 240, kernel_size=(1, 1), stride=(1, 1))\n",
      "        )\n",
      "        (conv_pwl): Conv2d(240, 40, kernel_size=(1, 1), stride=(1, 1), bias=False)\n",
      "        (bn3): BatchNorm2d(40, eps=0.001, momentum=0.1, affine=True, track_running_stats=True)\n",
      "      )\n",
      "    )\n",
      "    (3): Sequential(\n",
      "      (0): InvertedResidual(\n",
      "        (conv_pw): Conv2d(40, 240, kernel_size=(1, 1), stride=(1, 1), bias=False)\n",
      "        (bn1): BatchNorm2d(240, eps=0.001, momentum=0.1, affine=True, track_running_stats=True)\n",
      "        (act1): SiLU(inplace=True)\n",
      "        (conv_dw): Conv2dSame(240, 240, kernel_size=(3, 3), stride=(2, 2), groups=240, bias=False)\n",
      "        (bn2): BatchNorm2d(240, eps=0.001, momentum=0.1, affine=True, track_running_stats=True)\n",
      "        (act2): SiLU(inplace=True)\n",
      "        (se): SqueezeExcite(\n",
      "          (conv_reduce): Conv2d(240, 10, kernel_size=(1, 1), stride=(1, 1))\n",
      "          (act1): SiLU(inplace=True)\n",
      "          (conv_expand): Conv2d(10, 240, kernel_size=(1, 1), stride=(1, 1))\n",
      "        )\n",
      "        (conv_pwl): Conv2d(240, 80, kernel_size=(1, 1), stride=(1, 1), bias=False)\n",
      "        (bn3): BatchNorm2d(80, eps=0.001, momentum=0.1, affine=True, track_running_stats=True)\n",
      "      )\n",
      "      (1): InvertedResidual(\n",
      "        (conv_pw): Conv2d(80, 480, kernel_size=(1, 1), stride=(1, 1), bias=False)\n",
      "        (bn1): BatchNorm2d(480, eps=0.001, momentum=0.1, affine=True, track_running_stats=True)\n",
      "        (act1): SiLU(inplace=True)\n",
      "        (conv_dw): Conv2d(480, 480, kernel_size=(3, 3), stride=(1, 1), padding=(1, 1), groups=480, bias=False)\n",
      "        (bn2): BatchNorm2d(480, eps=0.001, momentum=0.1, affine=True, track_running_stats=True)\n",
      "        (act2): SiLU(inplace=True)\n",
      "        (se): SqueezeExcite(\n",
      "          (conv_reduce): Conv2d(480, 20, kernel_size=(1, 1), stride=(1, 1))\n",
      "          (act1): SiLU(inplace=True)\n",
      "          (conv_expand): Conv2d(20, 480, kernel_size=(1, 1), stride=(1, 1))\n",
      "        )\n",
      "        (conv_pwl): Conv2d(480, 80, kernel_size=(1, 1), stride=(1, 1), bias=False)\n",
      "        (bn3): BatchNorm2d(80, eps=0.001, momentum=0.1, affine=True, track_running_stats=True)\n",
      "      )\n",
      "      (2): InvertedResidual(\n",
      "        (conv_pw): Conv2d(80, 480, kernel_size=(1, 1), stride=(1, 1), bias=False)\n",
      "        (bn1): BatchNorm2d(480, eps=0.001, momentum=0.1, affine=True, track_running_stats=True)\n",
      "        (act1): SiLU(inplace=True)\n",
      "        (conv_dw): Conv2d(480, 480, kernel_size=(3, 3), stride=(1, 1), padding=(1, 1), groups=480, bias=False)\n",
      "        (bn2): BatchNorm2d(480, eps=0.001, momentum=0.1, affine=True, track_running_stats=True)\n",
      "        (act2): SiLU(inplace=True)\n",
      "        (se): SqueezeExcite(\n",
      "          (conv_reduce): Conv2d(480, 20, kernel_size=(1, 1), stride=(1, 1))\n",
      "          (act1): SiLU(inplace=True)\n",
      "          (conv_expand): Conv2d(20, 480, kernel_size=(1, 1), stride=(1, 1))\n",
      "        )\n",
      "        (conv_pwl): Conv2d(480, 80, kernel_size=(1, 1), stride=(1, 1), bias=False)\n",
      "        (bn3): BatchNorm2d(80, eps=0.001, momentum=0.1, affine=True, track_running_stats=True)\n",
      "      )\n",
      "    )\n",
      "    (4): Sequential(\n",
      "      (0): InvertedResidual(\n",
      "        (conv_pw): Conv2d(80, 480, kernel_size=(1, 1), stride=(1, 1), bias=False)\n",
      "        (bn1): BatchNorm2d(480, eps=0.001, momentum=0.1, affine=True, track_running_stats=True)\n",
      "        (act1): SiLU(inplace=True)\n",
      "        (conv_dw): Conv2d(480, 480, kernel_size=(5, 5), stride=(1, 1), padding=(2, 2), groups=480, bias=False)\n",
      "        (bn2): BatchNorm2d(480, eps=0.001, momentum=0.1, affine=True, track_running_stats=True)\n",
      "        (act2): SiLU(inplace=True)\n",
      "        (se): SqueezeExcite(\n",
      "          (conv_reduce): Conv2d(480, 20, kernel_size=(1, 1), stride=(1, 1))\n",
      "          (act1): SiLU(inplace=True)\n",
      "          (conv_expand): Conv2d(20, 480, kernel_size=(1, 1), stride=(1, 1))\n",
      "        )\n",
      "        (conv_pwl): Conv2d(480, 112, kernel_size=(1, 1), stride=(1, 1), bias=False)\n",
      "        (bn3): BatchNorm2d(112, eps=0.001, momentum=0.1, affine=True, track_running_stats=True)\n",
      "      )\n",
      "      (1): InvertedResidual(\n",
      "        (conv_pw): Conv2d(112, 672, kernel_size=(1, 1), stride=(1, 1), bias=False)\n",
      "        (bn1): BatchNorm2d(672, eps=0.001, momentum=0.1, affine=True, track_running_stats=True)\n",
      "        (act1): SiLU(inplace=True)\n",
      "        (conv_dw): Conv2d(672, 672, kernel_size=(5, 5), stride=(1, 1), padding=(2, 2), groups=672, bias=False)\n",
      "        (bn2): BatchNorm2d(672, eps=0.001, momentum=0.1, affine=True, track_running_stats=True)\n",
      "        (act2): SiLU(inplace=True)\n",
      "        (se): SqueezeExcite(\n",
      "          (conv_reduce): Conv2d(672, 28, kernel_size=(1, 1), stride=(1, 1))\n",
      "          (act1): SiLU(inplace=True)\n",
      "          (conv_expand): Conv2d(28, 672, kernel_size=(1, 1), stride=(1, 1))\n",
      "        )\n",
      "        (conv_pwl): Conv2d(672, 112, kernel_size=(1, 1), stride=(1, 1), bias=False)\n",
      "        (bn3): BatchNorm2d(112, eps=0.001, momentum=0.1, affine=True, track_running_stats=True)\n",
      "      )\n",
      "      (2): InvertedResidual(\n",
      "        (conv_pw): Conv2d(112, 672, kernel_size=(1, 1), stride=(1, 1), bias=False)\n",
      "        (bn1): BatchNorm2d(672, eps=0.001, momentum=0.1, affine=True, track_running_stats=True)\n",
      "        (act1): SiLU(inplace=True)\n",
      "        (conv_dw): Conv2d(672, 672, kernel_size=(5, 5), stride=(1, 1), padding=(2, 2), groups=672, bias=False)\n",
      "        (bn2): BatchNorm2d(672, eps=0.001, momentum=0.1, affine=True, track_running_stats=True)\n",
      "        (act2): SiLU(inplace=True)\n",
      "        (se): SqueezeExcite(\n",
      "          (conv_reduce): Conv2d(672, 28, kernel_size=(1, 1), stride=(1, 1))\n",
      "          (act1): SiLU(inplace=True)\n",
      "          (conv_expand): Conv2d(28, 672, kernel_size=(1, 1), stride=(1, 1))\n",
      "        )\n",
      "        (conv_pwl): Conv2d(672, 112, kernel_size=(1, 1), stride=(1, 1), bias=False)\n",
      "        (bn3): BatchNorm2d(112, eps=0.001, momentum=0.1, affine=True, track_running_stats=True)\n",
      "      )\n",
      "    )\n",
      "    (5): Sequential(\n",
      "      (0): InvertedResidual(\n",
      "        (conv_pw): Conv2d(112, 672, kernel_size=(1, 1), stride=(1, 1), bias=False)\n",
      "        (bn1): BatchNorm2d(672, eps=0.001, momentum=0.1, affine=True, track_running_stats=True)\n",
      "        (act1): SiLU(inplace=True)\n",
      "        (conv_dw): Conv2dSame(672, 672, kernel_size=(5, 5), stride=(2, 2), groups=672, bias=False)\n",
      "        (bn2): BatchNorm2d(672, eps=0.001, momentum=0.1, affine=True, track_running_stats=True)\n",
      "        (act2): SiLU(inplace=True)\n",
      "        (se): SqueezeExcite(\n",
      "          (conv_reduce): Conv2d(672, 28, kernel_size=(1, 1), stride=(1, 1))\n",
      "          (act1): SiLU(inplace=True)\n",
      "          (conv_expand): Conv2d(28, 672, kernel_size=(1, 1), stride=(1, 1))\n",
      "        )\n",
      "        (conv_pwl): Conv2d(672, 192, kernel_size=(1, 1), stride=(1, 1), bias=False)\n",
      "        (bn3): BatchNorm2d(192, eps=0.001, momentum=0.1, affine=True, track_running_stats=True)\n",
      "      )\n",
      "      (1): InvertedResidual(\n",
      "        (conv_pw): Conv2d(192, 1152, kernel_size=(1, 1), stride=(1, 1), bias=False)\n",
      "        (bn1): BatchNorm2d(1152, eps=0.001, momentum=0.1, affine=True, track_running_stats=True)\n",
      "        (act1): SiLU(inplace=True)\n",
      "        (conv_dw): Conv2d(1152, 1152, kernel_size=(5, 5), stride=(1, 1), padding=(2, 2), groups=1152, bias=False)\n",
      "        (bn2): BatchNorm2d(1152, eps=0.001, momentum=0.1, affine=True, track_running_stats=True)\n",
      "        (act2): SiLU(inplace=True)\n",
      "        (se): SqueezeExcite(\n",
      "          (conv_reduce): Conv2d(1152, 48, kernel_size=(1, 1), stride=(1, 1))\n",
      "          (act1): SiLU(inplace=True)\n",
      "          (conv_expand): Conv2d(48, 1152, kernel_size=(1, 1), stride=(1, 1))\n",
      "        )\n",
      "        (conv_pwl): Conv2d(1152, 192, kernel_size=(1, 1), stride=(1, 1), bias=False)\n",
      "        (bn3): BatchNorm2d(192, eps=0.001, momentum=0.1, affine=True, track_running_stats=True)\n",
      "      )\n",
      "      (2): InvertedResidual(\n",
      "        (conv_pw): Conv2d(192, 1152, kernel_size=(1, 1), stride=(1, 1), bias=False)\n",
      "        (bn1): BatchNorm2d(1152, eps=0.001, momentum=0.1, affine=True, track_running_stats=True)\n",
      "        (act1): SiLU(inplace=True)\n",
      "        (conv_dw): Conv2d(1152, 1152, kernel_size=(5, 5), stride=(1, 1), padding=(2, 2), groups=1152, bias=False)\n",
      "        (bn2): BatchNorm2d(1152, eps=0.001, momentum=0.1, affine=True, track_running_stats=True)\n",
      "        (act2): SiLU(inplace=True)\n",
      "        (se): SqueezeExcite(\n",
      "          (conv_reduce): Conv2d(1152, 48, kernel_size=(1, 1), stride=(1, 1))\n",
      "          (act1): SiLU(inplace=True)\n",
      "          (conv_expand): Conv2d(48, 1152, kernel_size=(1, 1), stride=(1, 1))\n",
      "        )\n",
      "        (conv_pwl): Conv2d(1152, 192, kernel_size=(1, 1), stride=(1, 1), bias=False)\n",
      "        (bn3): BatchNorm2d(192, eps=0.001, momentum=0.1, affine=True, track_running_stats=True)\n",
      "      )\n",
      "      (3): InvertedResidual(\n",
      "        (conv_pw): Conv2d(192, 1152, kernel_size=(1, 1), stride=(1, 1), bias=False)\n",
      "        (bn1): BatchNorm2d(1152, eps=0.001, momentum=0.1, affine=True, track_running_stats=True)\n",
      "        (act1): SiLU(inplace=True)\n",
      "        (conv_dw): Conv2d(1152, 1152, kernel_size=(5, 5), stride=(1, 1), padding=(2, 2), groups=1152, bias=False)\n",
      "        (bn2): BatchNorm2d(1152, eps=0.001, momentum=0.1, affine=True, track_running_stats=True)\n",
      "        (act2): SiLU(inplace=True)\n",
      "        (se): SqueezeExcite(\n",
      "          (conv_reduce): Conv2d(1152, 48, kernel_size=(1, 1), stride=(1, 1))\n",
      "          (act1): SiLU(inplace=True)\n",
      "          (conv_expand): Conv2d(48, 1152, kernel_size=(1, 1), stride=(1, 1))\n",
      "        )\n",
      "        (conv_pwl): Conv2d(1152, 192, kernel_size=(1, 1), stride=(1, 1), bias=False)\n",
      "        (bn3): BatchNorm2d(192, eps=0.001, momentum=0.1, affine=True, track_running_stats=True)\n",
      "      )\n",
      "    )\n",
      "    (6): Sequential(\n",
      "      (0): InvertedResidual(\n",
      "        (conv_pw): Conv2d(192, 1152, kernel_size=(1, 1), stride=(1, 1), bias=False)\n",
      "        (bn1): BatchNorm2d(1152, eps=0.001, momentum=0.1, affine=True, track_running_stats=True)\n",
      "        (act1): SiLU(inplace=True)\n",
      "        (conv_dw): Conv2d(1152, 1152, kernel_size=(3, 3), stride=(1, 1), padding=(1, 1), groups=1152, bias=False)\n",
      "        (bn2): BatchNorm2d(1152, eps=0.001, momentum=0.1, affine=True, track_running_stats=True)\n",
      "        (act2): SiLU(inplace=True)\n",
      "        (se): SqueezeExcite(\n",
      "          (conv_reduce): Conv2d(1152, 48, kernel_size=(1, 1), stride=(1, 1))\n",
      "          (act1): SiLU(inplace=True)\n",
      "          (conv_expand): Conv2d(48, 1152, kernel_size=(1, 1), stride=(1, 1))\n",
      "        )\n",
      "        (conv_pwl): Conv2d(1152, 320, kernel_size=(1, 1), stride=(1, 1), bias=False)\n",
      "        (bn3): BatchNorm2d(320, eps=0.001, momentum=0.1, affine=True, track_running_stats=True)\n",
      "      )\n",
      "    )\n",
      "  )\n",
      "  (conv_head): Conv2d(320, 1280, kernel_size=(1, 1), stride=(1, 1), bias=False)\n",
      "  (bn2): BatchNorm2d(1280, eps=0.001, momentum=0.1, affine=True, track_running_stats=True)\n",
      "  (act2): SiLU(inplace=True)\n",
      "  (global_pool): SelectAdaptivePool2d (pool_type=avg, flatten=True)\n",
      "  (classifier): Linear(in_features=1280, out_features=10, bias=True)\n",
      ")\n"
     ]
    }
   ],
   "source": [
    "print(PATH)\n",
    "model = torch.load('../../models/affectnet_emotions/'+PATH)\n",
    "print(model)"
   ]
  },
  {
   "cell_type": "code",
   "execution_count": 16,
   "metadata": {},
   "outputs": [],
   "source": [
    "import copy\n",
    "pretrained_model=copy.deepcopy(model)"
   ]
  },
  {
   "cell_type": "markdown",
   "metadata": {},
   "source": [
    "## Test"
   ]
  },
  {
   "cell_type": "code",
   "execution_count": 17,
   "metadata": {},
   "outputs": [
    {
     "name": "stdout",
     "output_type": "stream",
     "text": [
      "/home/HDD6TB/datasets/emotions/ABAW/eccv_4/validation_set_real_images Compose(\n",
      "    Resize(size=(224, 224), interpolation=PIL.Image.BILINEAR)\n",
      "    ToTensor()\n",
      "    Normalize(mean=[0.485, 0.456, 0.406], std=[0.229, 0.224, 0.225])\n",
      ")\n"
     ]
    },
    {
     "data": {
      "application/vnd.jupyter.widget-view+json": {
       "model_id": "239c1c90f46c4ba48a365b54a0d0d2ed",
       "version_major": 2,
       "version_minor": 0
      },
      "text/plain": [
       "  0%|          | 0/6 [00:00<?, ?it/s]"
      ]
     },
     "metadata": {},
     "output_type": "display_data"
    },
    {
     "name": "stdout",
     "output_type": "stream",
     "text": [
      "(4670, 10) (4670,)\n"
     ]
    }
   ],
   "source": [
    "y_val,y_scores_val_pretrained=[],[]\n",
    "pretrained_model.eval()\n",
    "\n",
    "d=test_dir\n",
    "#d=DATA_DIR / 'SR/validation_set_real_images'\n",
    "\n",
    "print(d,test_transforms)\n",
    "for class_name in tqdm(os.listdir(d)):\n",
    "    if class_name in class_to_idx:\n",
    "        class_dir=d / class_name\n",
    "        y=class_to_idx[class_name]\n",
    "        imgs=[]\n",
    "        for img_name in os.listdir(class_dir):\n",
    "            filepath=class_dir / img_name\n",
    "            if str(filepath).lower().endswith('.jpg'):\n",
    "                img = Image.open(filepath)\n",
    "                if img.size:\n",
    "                    img_tensor = test_transforms(img)\n",
    "                    imgs.append(img_tensor)\n",
    "                    y_val.append(y)\n",
    "                    if len(imgs)>32:        \n",
    "                        scores = model(torch.stack(imgs, dim=0).to(device))\n",
    "                        scores=scores.data.cpu().numpy()\n",
    "                        if len(y_scores_val_pretrained)==0:\n",
    "                            y_scores_val_pretrained=scores\n",
    "                        else:\n",
    "                            y_scores_val_pretrained=np.concatenate((y_scores_val_pretrained,scores),axis=0)\n",
    "                        imgs=[]\n",
    "        if len(imgs)>0:        \n",
    "            scores = model(torch.stack(imgs, dim=0).to(device))\n",
    "            scores=scores.data.cpu().numpy()\n",
    "            if len(y_scores_val_pretrained)==0:\n",
    "                y_scores_val_pretrained=scores\n",
    "            else:\n",
    "                y_scores_val_pretrained=np.concatenate((y_scores_val_pretrained,scores),axis=0)\n",
    "            imgs=[]\n",
    "y_val=np.array(y_val)\n",
    "print(y_scores_val_pretrained.shape,y_val.shape)"
   ]
  },
  {
   "cell_type": "code",
   "execution_count": 20,
   "metadata": {},
   "outputs": [
    {
     "name": "stdout",
     "output_type": "stream",
     "text": [
      "8 {0: 'ANGRER', 1: 'Contempt', 2: 'DISGUST', 3: 'FEAR', 4: 'HAPPINESS', 5: 'Neutral', 6: 'SADNESS', 7: 'SURPRISE'} {'ANGRER': 0, 'DISGUST': 1, 'FEAR': 2, 'HAPPINESS': 3, 'SADNESS': 4, 'SURPRISE': 5}\n",
      "[0 2 3 4 6 7]\n"
     ]
    }
   ],
   "source": [
    "NUM_EMOTIONS=min(8,pretrained_model.classifier.out_features) #pretrained_model.classifier[0].out_features\n",
    "if NUM_EMOTIONS==7:\n",
    "    orig_score_to_emotion={0: 'ANGRER', 1: 'DISGUST', 2: 'FEAR', 3: 'HAPPINESS', 4: 'Neutral', 5: 'SADNESS', 6: 'SURPRISE'}\n",
    "else:\n",
    "    orig_score_to_emotion={0: 'ANGRER', 1: 'Contempt', 2: 'DISGUST', 3: 'FEAR', 4: 'HAPPINESS', 5: 'Neutral', 6: 'SADNESS', 7: 'SURPRISE'}\n",
    "print(NUM_EMOTIONS,orig_score_to_emotion,class_to_idx)\n",
    "\n",
    "indices=np.array([i for i,emotion in orig_score_to_emotion.items() if emotion in class_to_idx])\n",
    "print(indices)"
   ]
  },
  {
   "cell_type": "code",
   "execution_count": 21,
   "metadata": {},
   "outputs": [
    {
     "name": "stdout",
     "output_type": "stream",
     "text": [
      "(4670, 6)\n",
      "68.82226980728052\n",
      "(0.6094158203574996, 0.6882226980728051, [0.7262569832402234, 0.5073313782991203, 0.23831775700934577, 0.8456375838926175, 0.7091004734350342, 0.6298507462686567])\n"
     ]
    }
   ],
   "source": [
    "y_scores_val_filtered=y_scores_val_pretrained[:, indices]\n",
    "print(y_scores_val_filtered.shape)\n",
    "y_pred_pretrained=np.argmax(y_scores_val_filtered,axis=1)\n",
    "acc=100.0*(y_val==y_pred_pretrained).sum()/len(y_val)\n",
    "print(acc)\n",
    "print(metric_for_Exp(gt=y_val,pred=y_pred_pretrained))"
   ]
  },
  {
   "cell_type": "markdown",
   "metadata": {},
   "source": [
    "enet0_mtl\n",
    "(0.6094158203574996, 0.6882226980728051, [0.7262569832402234, 0.5073313782991203, 0.23831775700934577, 0.8456375838926175, 0.7091004734350342, 0.6298507462686567])\n",
    "\n",
    "enet0_vgaf\n",
    "66.59528907922912\n",
    "(0.5972238146661198, 0.6659528907922913, [0.6810089020771514, 0.5446685878962535, 0.2121212121212121, 0.8410789730256744, 0.6822429906542056, 0.6222222222222221])\n",
    "\n",
    "SR: (0.5512417638843748, 0.6458244111349036, [0.6065969428801287, 0.46858638743455494, 0.15047879616963064, 0.8420398009950248, 0.6350974930362117, 0.6046511627906976])\n",
    "\n",
    "enet0_afew\n",
    "66.61670235546039\n",
    "(0.5932029472117764, 0.6661670235546039, [0.713588850174216, 0.4423380726698262, 0.29366602687140114, 0.83710407239819, 0.6725206611570248, 0.5999999999999999])\n",
    "\n",
    "enet_b0_7\n",
    "(4670, 6)\n",
    "65.24625267665952\n",
    "(0.5694017580133345, 0.6524625267665953, [0.586038961038961, 0.43790849673202614, 0.22, 0.8474036317298502, 0.6970954356846473, 0.6279640228945217])\n",
    "\n",
    "enet2_8\n",
    "60.149892933618844\n",
    "(0.5206302747530032, 0.6014989293361884, [0.42326024785510014, 0.27955133735979293, 0.30398517145505094, 0.8462540716612377, 0.680287134180011, 0.590443686006826])"
   ]
  },
  {
   "cell_type": "markdown",
   "metadata": {},
   "source": [
    "# Fine-tune"
   ]
  },
  {
   "cell_type": "code",
   "execution_count": 25,
   "metadata": {},
   "outputs": [
    {
     "name": "stdout",
     "output_type": "stream",
     "text": [
      "(10, 1280) [[ 0.00679121  0.09001139  0.0694934  ...  0.10351563 -0.00995514\n",
      "  -0.17376047]\n",
      " [-0.004085   -0.07134113 -0.12164655 ... -0.05029012  0.03059323\n",
      "   0.08198261]\n",
      " [-0.0034241  -0.06510569 -0.00448079 ...  0.04248156 -0.10535879\n",
      "  -0.00544419]\n",
      " ...\n",
      " [ 0.07878461 -0.03540913 -0.06665969 ... -0.10314589  0.1332206\n",
      "  -0.06119434]\n",
      " [-0.02409821 -0.00270485  0.00887998 ... -0.00501176  0.01345664\n",
      "  -0.02131553]\n",
      " [-0.04529824 -0.04590099 -0.00950194 ...  0.00753843  0.02128105\n",
      "  -0.05743075]]\n",
      "(10,) [-0.03629377 -0.00268708 -0.05411524  0.01482256  0.13788255  0.09921926\n",
      " -0.05259513 -0.0124341   0.0816549   0.04621203]\n",
      "(6, 1280) [[ 0.00679121  0.09001139  0.0694934  ...  0.10351563 -0.00995514\n",
      "  -0.17376047]\n",
      " [-0.0034241  -0.06510569 -0.00448079 ...  0.04248156 -0.10535879\n",
      "  -0.00544419]\n",
      " [-0.04261613  0.10180342  0.07838909 ...  0.04548035  0.04068143\n",
      "  -0.0552489 ]\n",
      " [-0.0317607  -0.28796476 -0.09701614 ... -0.04271894 -0.0043901\n",
      "  -0.05047393]\n",
      " [ 0.02574176  0.11671454  0.22346166 ...  0.01349641 -0.0852355\n",
      "   0.10502897]\n",
      " [ 0.07878461 -0.03540913 -0.06665969 ... -0.10314589  0.1332206\n",
      "  -0.06119434]]\n",
      "(6,) [-0.03629377 -0.05411524  0.01482256  0.13788255 -0.05259513 -0.0124341 ]\n"
     ]
    }
   ],
   "source": [
    "if False:\n",
    "    classifier_weights=model.classifier[0].weight.cpu().data.numpy()\n",
    "    classifier_bias=model.classifier[0].bias.cpu().data.numpy()\n",
    "else:\n",
    "    classifier_weights=model.classifier.weight.cpu().data.numpy()\n",
    "    classifier_bias=model.classifier.bias.cpu().data.numpy()\n",
    "\n",
    "print(classifier_weights.shape,classifier_weights)\n",
    "print(classifier_bias.shape,classifier_bias)\n",
    "\n",
    "#MTL: {0,1,2,3,4,5,6,7} [Neutral, Anger, Disgust, Fear, Happiness, Sadness, Surprise, Other]\n",
    "#SYNTHETIC: {'ANGRER': 0, 'DISGUST': 1, 'FEAR': 2, 'HAPPINESS': 3, 'SADNESS': 4, 'SURPRISE': 5}\n",
    "new_classifier_weights=classifier_weights[indices,:]\n",
    "new_classifier_bias=classifier_bias[indices]\n",
    "print(new_classifier_weights.shape,new_classifier_weights)\n",
    "print(new_classifier_bias.shape,new_classifier_bias)"
   ]
  },
  {
   "cell_type": "code",
   "execution_count": 25,
   "metadata": {},
   "outputs": [
    {
     "name": "stdout",
     "output_type": "stream",
     "text": [
      "EfficientNet(\n",
      "  (conv_stem): Conv2dSame(3, 32, kernel_size=(3, 3), stride=(2, 2), bias=False)\n",
      "  (bn1): BatchNorm2d(32, eps=0.001, momentum=0.1, affine=True, track_running_stats=True)\n",
      "  (act1): SiLU(inplace=True)\n",
      "  (blocks): Sequential(\n",
      "    (0): Sequential(\n",
      "      (0): DepthwiseSeparableConv(\n",
      "        (conv_dw): Conv2d(32, 32, kernel_size=(3, 3), stride=(1, 1), padding=(1, 1), groups=32, bias=False)\n",
      "        (bn1): BatchNorm2d(32, eps=0.001, momentum=0.1, affine=True, track_running_stats=True)\n",
      "        (act1): SiLU(inplace=True)\n",
      "        (se): SqueezeExcite(\n",
      "          (conv_reduce): Conv2d(32, 8, kernel_size=(1, 1), stride=(1, 1))\n",
      "          (act1): SiLU(inplace=True)\n",
      "          (conv_expand): Conv2d(8, 32, kernel_size=(1, 1), stride=(1, 1))\n",
      "        )\n",
      "        (conv_pw): Conv2d(32, 16, kernel_size=(1, 1), stride=(1, 1), bias=False)\n",
      "        (bn2): BatchNorm2d(16, eps=0.001, momentum=0.1, affine=True, track_running_stats=True)\n",
      "        (act2): Identity()\n",
      "      )\n",
      "    )\n",
      "    (1): Sequential(\n",
      "      (0): InvertedResidual(\n",
      "        (conv_pw): Conv2d(16, 96, kernel_size=(1, 1), stride=(1, 1), bias=False)\n",
      "        (bn1): BatchNorm2d(96, eps=0.001, momentum=0.1, affine=True, track_running_stats=True)\n",
      "        (act1): SiLU(inplace=True)\n",
      "        (conv_dw): Conv2dSame(96, 96, kernel_size=(3, 3), stride=(2, 2), groups=96, bias=False)\n",
      "        (bn2): BatchNorm2d(96, eps=0.001, momentum=0.1, affine=True, track_running_stats=True)\n",
      "        (act2): SiLU(inplace=True)\n",
      "        (se): SqueezeExcite(\n",
      "          (conv_reduce): Conv2d(96, 4, kernel_size=(1, 1), stride=(1, 1))\n",
      "          (act1): SiLU(inplace=True)\n",
      "          (conv_expand): Conv2d(4, 96, kernel_size=(1, 1), stride=(1, 1))\n",
      "        )\n",
      "        (conv_pwl): Conv2d(96, 24, kernel_size=(1, 1), stride=(1, 1), bias=False)\n",
      "        (bn3): BatchNorm2d(24, eps=0.001, momentum=0.1, affine=True, track_running_stats=True)\n",
      "      )\n",
      "      (1): InvertedResidual(\n",
      "        (conv_pw): Conv2d(24, 144, kernel_size=(1, 1), stride=(1, 1), bias=False)\n",
      "        (bn1): BatchNorm2d(144, eps=0.001, momentum=0.1, affine=True, track_running_stats=True)\n",
      "        (act1): SiLU(inplace=True)\n",
      "        (conv_dw): Conv2d(144, 144, kernel_size=(3, 3), stride=(1, 1), padding=(1, 1), groups=144, bias=False)\n",
      "        (bn2): BatchNorm2d(144, eps=0.001, momentum=0.1, affine=True, track_running_stats=True)\n",
      "        (act2): SiLU(inplace=True)\n",
      "        (se): SqueezeExcite(\n",
      "          (conv_reduce): Conv2d(144, 6, kernel_size=(1, 1), stride=(1, 1))\n",
      "          (act1): SiLU(inplace=True)\n",
      "          (conv_expand): Conv2d(6, 144, kernel_size=(1, 1), stride=(1, 1))\n",
      "        )\n",
      "        (conv_pwl): Conv2d(144, 24, kernel_size=(1, 1), stride=(1, 1), bias=False)\n",
      "        (bn3): BatchNorm2d(24, eps=0.001, momentum=0.1, affine=True, track_running_stats=True)\n",
      "      )\n",
      "    )\n",
      "    (2): Sequential(\n",
      "      (0): InvertedResidual(\n",
      "        (conv_pw): Conv2d(24, 144, kernel_size=(1, 1), stride=(1, 1), bias=False)\n",
      "        (bn1): BatchNorm2d(144, eps=0.001, momentum=0.1, affine=True, track_running_stats=True)\n",
      "        (act1): SiLU(inplace=True)\n",
      "        (conv_dw): Conv2dSame(144, 144, kernel_size=(5, 5), stride=(2, 2), groups=144, bias=False)\n",
      "        (bn2): BatchNorm2d(144, eps=0.001, momentum=0.1, affine=True, track_running_stats=True)\n",
      "        (act2): SiLU(inplace=True)\n",
      "        (se): SqueezeExcite(\n",
      "          (conv_reduce): Conv2d(144, 6, kernel_size=(1, 1), stride=(1, 1))\n",
      "          (act1): SiLU(inplace=True)\n",
      "          (conv_expand): Conv2d(6, 144, kernel_size=(1, 1), stride=(1, 1))\n",
      "        )\n",
      "        (conv_pwl): Conv2d(144, 40, kernel_size=(1, 1), stride=(1, 1), bias=False)\n",
      "        (bn3): BatchNorm2d(40, eps=0.001, momentum=0.1, affine=True, track_running_stats=True)\n",
      "      )\n",
      "      (1): InvertedResidual(\n",
      "        (conv_pw): Conv2d(40, 240, kernel_size=(1, 1), stride=(1, 1), bias=False)\n",
      "        (bn1): BatchNorm2d(240, eps=0.001, momentum=0.1, affine=True, track_running_stats=True)\n",
      "        (act1): SiLU(inplace=True)\n",
      "        (conv_dw): Conv2d(240, 240, kernel_size=(5, 5), stride=(1, 1), padding=(2, 2), groups=240, bias=False)\n",
      "        (bn2): BatchNorm2d(240, eps=0.001, momentum=0.1, affine=True, track_running_stats=True)\n",
      "        (act2): SiLU(inplace=True)\n",
      "        (se): SqueezeExcite(\n",
      "          (conv_reduce): Conv2d(240, 10, kernel_size=(1, 1), stride=(1, 1))\n",
      "          (act1): SiLU(inplace=True)\n",
      "          (conv_expand): Conv2d(10, 240, kernel_size=(1, 1), stride=(1, 1))\n",
      "        )\n",
      "        (conv_pwl): Conv2d(240, 40, kernel_size=(1, 1), stride=(1, 1), bias=False)\n",
      "        (bn3): BatchNorm2d(40, eps=0.001, momentum=0.1, affine=True, track_running_stats=True)\n",
      "      )\n",
      "    )\n",
      "    (3): Sequential(\n",
      "      (0): InvertedResidual(\n",
      "        (conv_pw): Conv2d(40, 240, kernel_size=(1, 1), stride=(1, 1), bias=False)\n",
      "        (bn1): BatchNorm2d(240, eps=0.001, momentum=0.1, affine=True, track_running_stats=True)\n",
      "        (act1): SiLU(inplace=True)\n",
      "        (conv_dw): Conv2dSame(240, 240, kernel_size=(3, 3), stride=(2, 2), groups=240, bias=False)\n",
      "        (bn2): BatchNorm2d(240, eps=0.001, momentum=0.1, affine=True, track_running_stats=True)\n",
      "        (act2): SiLU(inplace=True)\n",
      "        (se): SqueezeExcite(\n",
      "          (conv_reduce): Conv2d(240, 10, kernel_size=(1, 1), stride=(1, 1))\n",
      "          (act1): SiLU(inplace=True)\n",
      "          (conv_expand): Conv2d(10, 240, kernel_size=(1, 1), stride=(1, 1))\n",
      "        )\n",
      "        (conv_pwl): Conv2d(240, 80, kernel_size=(1, 1), stride=(1, 1), bias=False)\n",
      "        (bn3): BatchNorm2d(80, eps=0.001, momentum=0.1, affine=True, track_running_stats=True)\n",
      "      )\n",
      "      (1): InvertedResidual(\n",
      "        (conv_pw): Conv2d(80, 480, kernel_size=(1, 1), stride=(1, 1), bias=False)\n",
      "        (bn1): BatchNorm2d(480, eps=0.001, momentum=0.1, affine=True, track_running_stats=True)\n",
      "        (act1): SiLU(inplace=True)\n",
      "        (conv_dw): Conv2d(480, 480, kernel_size=(3, 3), stride=(1, 1), padding=(1, 1), groups=480, bias=False)\n",
      "        (bn2): BatchNorm2d(480, eps=0.001, momentum=0.1, affine=True, track_running_stats=True)\n",
      "        (act2): SiLU(inplace=True)\n",
      "        (se): SqueezeExcite(\n",
      "          (conv_reduce): Conv2d(480, 20, kernel_size=(1, 1), stride=(1, 1))\n",
      "          (act1): SiLU(inplace=True)\n",
      "          (conv_expand): Conv2d(20, 480, kernel_size=(1, 1), stride=(1, 1))\n",
      "        )\n",
      "        (conv_pwl): Conv2d(480, 80, kernel_size=(1, 1), stride=(1, 1), bias=False)\n",
      "        (bn3): BatchNorm2d(80, eps=0.001, momentum=0.1, affine=True, track_running_stats=True)\n",
      "      )\n",
      "      (2): InvertedResidual(\n",
      "        (conv_pw): Conv2d(80, 480, kernel_size=(1, 1), stride=(1, 1), bias=False)\n",
      "        (bn1): BatchNorm2d(480, eps=0.001, momentum=0.1, affine=True, track_running_stats=True)\n",
      "        (act1): SiLU(inplace=True)\n",
      "        (conv_dw): Conv2d(480, 480, kernel_size=(3, 3), stride=(1, 1), padding=(1, 1), groups=480, bias=False)\n",
      "        (bn2): BatchNorm2d(480, eps=0.001, momentum=0.1, affine=True, track_running_stats=True)\n",
      "        (act2): SiLU(inplace=True)\n",
      "        (se): SqueezeExcite(\n",
      "          (conv_reduce): Conv2d(480, 20, kernel_size=(1, 1), stride=(1, 1))\n",
      "          (act1): SiLU(inplace=True)\n",
      "          (conv_expand): Conv2d(20, 480, kernel_size=(1, 1), stride=(1, 1))\n",
      "        )\n",
      "        (conv_pwl): Conv2d(480, 80, kernel_size=(1, 1), stride=(1, 1), bias=False)\n",
      "        (bn3): BatchNorm2d(80, eps=0.001, momentum=0.1, affine=True, track_running_stats=True)\n",
      "      )\n",
      "    )\n",
      "    (4): Sequential(\n",
      "      (0): InvertedResidual(\n",
      "        (conv_pw): Conv2d(80, 480, kernel_size=(1, 1), stride=(1, 1), bias=False)\n",
      "        (bn1): BatchNorm2d(480, eps=0.001, momentum=0.1, affine=True, track_running_stats=True)\n",
      "        (act1): SiLU(inplace=True)\n",
      "        (conv_dw): Conv2d(480, 480, kernel_size=(5, 5), stride=(1, 1), padding=(2, 2), groups=480, bias=False)\n",
      "        (bn2): BatchNorm2d(480, eps=0.001, momentum=0.1, affine=True, track_running_stats=True)\n",
      "        (act2): SiLU(inplace=True)\n",
      "        (se): SqueezeExcite(\n",
      "          (conv_reduce): Conv2d(480, 20, kernel_size=(1, 1), stride=(1, 1))\n",
      "          (act1): SiLU(inplace=True)\n",
      "          (conv_expand): Conv2d(20, 480, kernel_size=(1, 1), stride=(1, 1))\n",
      "        )\n",
      "        (conv_pwl): Conv2d(480, 112, kernel_size=(1, 1), stride=(1, 1), bias=False)\n",
      "        (bn3): BatchNorm2d(112, eps=0.001, momentum=0.1, affine=True, track_running_stats=True)\n",
      "      )\n",
      "      (1): InvertedResidual(\n",
      "        (conv_pw): Conv2d(112, 672, kernel_size=(1, 1), stride=(1, 1), bias=False)\n",
      "        (bn1): BatchNorm2d(672, eps=0.001, momentum=0.1, affine=True, track_running_stats=True)\n",
      "        (act1): SiLU(inplace=True)\n",
      "        (conv_dw): Conv2d(672, 672, kernel_size=(5, 5), stride=(1, 1), padding=(2, 2), groups=672, bias=False)\n",
      "        (bn2): BatchNorm2d(672, eps=0.001, momentum=0.1, affine=True, track_running_stats=True)\n",
      "        (act2): SiLU(inplace=True)\n",
      "        (se): SqueezeExcite(\n",
      "          (conv_reduce): Conv2d(672, 28, kernel_size=(1, 1), stride=(1, 1))\n",
      "          (act1): SiLU(inplace=True)\n",
      "          (conv_expand): Conv2d(28, 672, kernel_size=(1, 1), stride=(1, 1))\n",
      "        )\n",
      "        (conv_pwl): Conv2d(672, 112, kernel_size=(1, 1), stride=(1, 1), bias=False)\n",
      "        (bn3): BatchNorm2d(112, eps=0.001, momentum=0.1, affine=True, track_running_stats=True)\n",
      "      )\n",
      "      (2): InvertedResidual(\n",
      "        (conv_pw): Conv2d(112, 672, kernel_size=(1, 1), stride=(1, 1), bias=False)\n",
      "        (bn1): BatchNorm2d(672, eps=0.001, momentum=0.1, affine=True, track_running_stats=True)\n",
      "        (act1): SiLU(inplace=True)\n",
      "        (conv_dw): Conv2d(672, 672, kernel_size=(5, 5), stride=(1, 1), padding=(2, 2), groups=672, bias=False)\n",
      "        (bn2): BatchNorm2d(672, eps=0.001, momentum=0.1, affine=True, track_running_stats=True)\n",
      "        (act2): SiLU(inplace=True)\n",
      "        (se): SqueezeExcite(\n",
      "          (conv_reduce): Conv2d(672, 28, kernel_size=(1, 1), stride=(1, 1))\n",
      "          (act1): SiLU(inplace=True)\n",
      "          (conv_expand): Conv2d(28, 672, kernel_size=(1, 1), stride=(1, 1))\n",
      "        )\n",
      "        (conv_pwl): Conv2d(672, 112, kernel_size=(1, 1), stride=(1, 1), bias=False)\n",
      "        (bn3): BatchNorm2d(112, eps=0.001, momentum=0.1, affine=True, track_running_stats=True)\n",
      "      )\n",
      "    )\n",
      "    (5): Sequential(\n",
      "      (0): InvertedResidual(\n",
      "        (conv_pw): Conv2d(112, 672, kernel_size=(1, 1), stride=(1, 1), bias=False)\n",
      "        (bn1): BatchNorm2d(672, eps=0.001, momentum=0.1, affine=True, track_running_stats=True)\n",
      "        (act1): SiLU(inplace=True)\n",
      "        (conv_dw): Conv2dSame(672, 672, kernel_size=(5, 5), stride=(2, 2), groups=672, bias=False)\n",
      "        (bn2): BatchNorm2d(672, eps=0.001, momentum=0.1, affine=True, track_running_stats=True)\n",
      "        (act2): SiLU(inplace=True)\n",
      "        (se): SqueezeExcite(\n",
      "          (conv_reduce): Conv2d(672, 28, kernel_size=(1, 1), stride=(1, 1))\n",
      "          (act1): SiLU(inplace=True)\n",
      "          (conv_expand): Conv2d(28, 672, kernel_size=(1, 1), stride=(1, 1))\n",
      "        )\n",
      "        (conv_pwl): Conv2d(672, 192, kernel_size=(1, 1), stride=(1, 1), bias=False)\n",
      "        (bn3): BatchNorm2d(192, eps=0.001, momentum=0.1, affine=True, track_running_stats=True)\n",
      "      )\n",
      "      (1): InvertedResidual(\n",
      "        (conv_pw): Conv2d(192, 1152, kernel_size=(1, 1), stride=(1, 1), bias=False)\n",
      "        (bn1): BatchNorm2d(1152, eps=0.001, momentum=0.1, affine=True, track_running_stats=True)\n",
      "        (act1): SiLU(inplace=True)\n",
      "        (conv_dw): Conv2d(1152, 1152, kernel_size=(5, 5), stride=(1, 1), padding=(2, 2), groups=1152, bias=False)\n",
      "        (bn2): BatchNorm2d(1152, eps=0.001, momentum=0.1, affine=True, track_running_stats=True)\n",
      "        (act2): SiLU(inplace=True)\n",
      "        (se): SqueezeExcite(\n",
      "          (conv_reduce): Conv2d(1152, 48, kernel_size=(1, 1), stride=(1, 1))\n",
      "          (act1): SiLU(inplace=True)\n",
      "          (conv_expand): Conv2d(48, 1152, kernel_size=(1, 1), stride=(1, 1))\n",
      "        )\n",
      "        (conv_pwl): Conv2d(1152, 192, kernel_size=(1, 1), stride=(1, 1), bias=False)\n",
      "        (bn3): BatchNorm2d(192, eps=0.001, momentum=0.1, affine=True, track_running_stats=True)\n",
      "      )\n",
      "      (2): InvertedResidual(\n",
      "        (conv_pw): Conv2d(192, 1152, kernel_size=(1, 1), stride=(1, 1), bias=False)\n",
      "        (bn1): BatchNorm2d(1152, eps=0.001, momentum=0.1, affine=True, track_running_stats=True)\n",
      "        (act1): SiLU(inplace=True)\n",
      "        (conv_dw): Conv2d(1152, 1152, kernel_size=(5, 5), stride=(1, 1), padding=(2, 2), groups=1152, bias=False)\n",
      "        (bn2): BatchNorm2d(1152, eps=0.001, momentum=0.1, affine=True, track_running_stats=True)\n",
      "        (act2): SiLU(inplace=True)\n",
      "        (se): SqueezeExcite(\n",
      "          (conv_reduce): Conv2d(1152, 48, kernel_size=(1, 1), stride=(1, 1))\n",
      "          (act1): SiLU(inplace=True)\n",
      "          (conv_expand): Conv2d(48, 1152, kernel_size=(1, 1), stride=(1, 1))\n",
      "        )\n",
      "        (conv_pwl): Conv2d(1152, 192, kernel_size=(1, 1), stride=(1, 1), bias=False)\n",
      "        (bn3): BatchNorm2d(192, eps=0.001, momentum=0.1, affine=True, track_running_stats=True)\n",
      "      )\n",
      "      (3): InvertedResidual(\n",
      "        (conv_pw): Conv2d(192, 1152, kernel_size=(1, 1), stride=(1, 1), bias=False)\n",
      "        (bn1): BatchNorm2d(1152, eps=0.001, momentum=0.1, affine=True, track_running_stats=True)\n",
      "        (act1): SiLU(inplace=True)\n",
      "        (conv_dw): Conv2d(1152, 1152, kernel_size=(5, 5), stride=(1, 1), padding=(2, 2), groups=1152, bias=False)\n",
      "        (bn2): BatchNorm2d(1152, eps=0.001, momentum=0.1, affine=True, track_running_stats=True)\n",
      "        (act2): SiLU(inplace=True)\n",
      "        (se): SqueezeExcite(\n",
      "          (conv_reduce): Conv2d(1152, 48, kernel_size=(1, 1), stride=(1, 1))\n",
      "          (act1): SiLU(inplace=True)\n",
      "          (conv_expand): Conv2d(48, 1152, kernel_size=(1, 1), stride=(1, 1))\n",
      "        )\n",
      "        (conv_pwl): Conv2d(1152, 192, kernel_size=(1, 1), stride=(1, 1), bias=False)\n",
      "        (bn3): BatchNorm2d(192, eps=0.001, momentum=0.1, affine=True, track_running_stats=True)\n",
      "      )\n",
      "    )\n",
      "    (6): Sequential(\n",
      "      (0): InvertedResidual(\n",
      "        (conv_pw): Conv2d(192, 1152, kernel_size=(1, 1), stride=(1, 1), bias=False)\n",
      "        (bn1): BatchNorm2d(1152, eps=0.001, momentum=0.1, affine=True, track_running_stats=True)\n",
      "        (act1): SiLU(inplace=True)\n",
      "        (conv_dw): Conv2d(1152, 1152, kernel_size=(3, 3), stride=(1, 1), padding=(1, 1), groups=1152, bias=False)\n",
      "        (bn2): BatchNorm2d(1152, eps=0.001, momentum=0.1, affine=True, track_running_stats=True)\n",
      "        (act2): SiLU(inplace=True)\n",
      "        (se): SqueezeExcite(\n",
      "          (conv_reduce): Conv2d(1152, 48, kernel_size=(1, 1), stride=(1, 1))\n",
      "          (act1): SiLU(inplace=True)\n",
      "          (conv_expand): Conv2d(48, 1152, kernel_size=(1, 1), stride=(1, 1))\n",
      "        )\n",
      "        (conv_pwl): Conv2d(1152, 320, kernel_size=(1, 1), stride=(1, 1), bias=False)\n",
      "        (bn3): BatchNorm2d(320, eps=0.001, momentum=0.1, affine=True, track_running_stats=True)\n",
      "      )\n",
      "    )\n",
      "  )\n",
      "  (conv_head): Conv2d(320, 1280, kernel_size=(1, 1), stride=(1, 1), bias=False)\n",
      "  (bn2): BatchNorm2d(1280, eps=0.001, momentum=0.1, affine=True, track_running_stats=True)\n",
      "  (act2): SiLU(inplace=True)\n",
      "  (global_pool): SelectAdaptivePool2d (pool_type=avg, flatten=True)\n",
      "  (classifier): Linear(in_features=1280, out_features=6, bias=True)\n",
      ")\n"
     ]
    }
   ],
   "source": [
    "if True:\n",
    "    FEATURES=True\n",
    "    l=nn.Linear(in_features=1280, out_features=num_classes) #1792 #1280 #1536 #1408\n",
    "    if False:\n",
    "        l.weight.data=torch.from_numpy(new_classifier_weights)\n",
    "        l.bias.data=torch.from_numpy(new_classifier_bias)\n",
    "    model.classifier=l\n",
    "else:\n",
    "    FEATURES=False\n",
    "    model.classifier.add_module('1',nn.Linear(in_features=model.classifier[0].out_features, out_features=num_classes))\n",
    "\n",
    "model=model.to(device)\n",
    "print(model)"
   ]
  },
  {
   "cell_type": "code",
   "execution_count": 26,
   "metadata": {},
   "outputs": [],
   "source": [
    "#adapted from https://pytorch.org/tutorials/beginner/finetuning_torchvision_models_tutorial.html\n",
    "def set_parameter_requires_grad(model, requires_grad):\n",
    "    for param in model.parameters():\n",
    "        param.requires_grad = requires_grad"
   ]
  },
  {
   "cell_type": "code",
   "execution_count": 27,
   "metadata": {
    "scrolled": true
   },
   "outputs": [
    {
     "data": {
      "application/vnd.jupyter.widget-view+json": {
       "model_id": "fb9f8eb0792147e3927386d06e294ea0",
       "version_major": 2,
       "version_minor": 0
      },
      "text/plain": [
       "  0%|          | 0/4333 [00:00<?, ?it/s]"
      ]
     },
     "metadata": {},
     "output_type": "display_data"
    },
    {
     "name": "stdout",
     "output_type": "stream",
     "text": [
      "(4670,) (4670,)\n",
      "Epoch : 1 - loss : 0.9188 - acc: 0.9201 - val_acc: 0.5901 - val_f1: 0.5624\n",
      "\n"
     ]
    },
    {
     "data": {
      "application/vnd.jupyter.widget-view+json": {
       "model_id": "6fcd2d25e6b94190b076a9a49d77e54c",
       "version_major": 2,
       "version_minor": 0
      },
      "text/plain": [
       "  0%|          | 0/4333 [00:00<?, ?it/s]"
      ]
     },
     "metadata": {},
     "output_type": "display_data"
    },
    {
     "name": "stdout",
     "output_type": "stream",
     "text": [
      "(4670,) (4670,)\n",
      "Epoch : 2 - loss : 0.8755 - acc: 0.9462 - val_acc: 0.6111 - val_f1: 0.5824\n",
      "\n"
     ]
    },
    {
     "data": {
      "application/vnd.jupyter.widget-view+json": {
       "model_id": "b362d116fd4642ea98c5eab6d88100ec",
       "version_major": 2,
       "version_minor": 0
      },
      "text/plain": [
       "  0%|          | 0/4333 [00:00<?, ?it/s]"
      ]
     },
     "metadata": {},
     "output_type": "display_data"
    },
    {
     "name": "stdout",
     "output_type": "stream",
     "text": [
      "(4670,) (4670,)\n",
      "Epoch : 3 - loss : 0.8682 - acc: 0.9522 - val_acc: 0.6030 - val_f1: 0.5711\n",
      "\n",
      "Best acc:0.5823801559783464\n",
      "val_acc: 0.6112\n",
      "\n"
     ]
    }
   ],
   "source": [
    "set_parameter_requires_grad(model, requires_grad=False)\n",
    "if FEATURES:\n",
    "    set_parameter_requires_grad(model.classifier, requires_grad=True)\n",
    "else:\n",
    "    set_parameter_requires_grad(model.classifier[1], requires_grad=True)\n",
    "train(model,3,0.001,robust=True,op=optim.Adam)"
   ]
  },
  {
   "cell_type": "code",
   "execution_count": 43,
   "metadata": {},
   "outputs": [],
   "source": [
    "if True:\n",
    "    best_model=copy.deepcopy(model.state_dict())\n",
    "else:\n",
    "    model.load_state_dict(best_model)"
   ]
  },
  {
   "cell_type": "code",
   "execution_count": 35,
   "metadata": {
    "scrolled": true
   },
   "outputs": [
    {
     "data": {
      "application/vnd.jupyter.widget-view+json": {
       "model_id": "ec206e8ebdf84362b8ec2f307d3037ef",
       "version_major": 2,
       "version_minor": 0
      },
      "text/plain": [
       "  0%|          | 0/4333 [00:00<?, ?it/s]"
      ]
     },
     "metadata": {},
     "output_type": "display_data"
    },
    {
     "name": "stderr",
     "output_type": "stream",
     "text": [
      "IOPub message rate exceeded.\n",
      "The notebook server will temporarily stop sending output\n",
      "to the client in order to avoid crashing it.\n",
      "To change this limit, set the config variable\n",
      "`--NotebookApp.iopub_msg_rate_limit`.\n",
      "\n",
      "Current values:\n",
      "NotebookApp.iopub_msg_rate_limit=1000.0 (msgs/sec)\n",
      "NotebookApp.rate_limit_window=3.0 (secs)\n",
      "\n",
      "IOPub message rate exceeded.\n",
      "The notebook server will temporarily stop sending output\n",
      "to the client in order to avoid crashing it.\n",
      "To change this limit, set the config variable\n",
      "`--NotebookApp.iopub_msg_rate_limit`.\n",
      "\n",
      "Current values:\n",
      "NotebookApp.iopub_msg_rate_limit=1000.0 (msgs/sec)\n",
      "NotebookApp.rate_limit_window=3.0 (secs)\n",
      "\n",
      "IOPub message rate exceeded.\n",
      "The notebook server will temporarily stop sending output\n",
      "to the client in order to avoid crashing it.\n",
      "To change this limit, set the config variable\n",
      "`--NotebookApp.iopub_msg_rate_limit`.\n",
      "\n",
      "Current values:\n",
      "NotebookApp.iopub_msg_rate_limit=1000.0 (msgs/sec)\n",
      "NotebookApp.rate_limit_window=3.0 (secs)\n",
      "\n"
     ]
    }
   ],
   "source": [
    "if False:\n",
    "    set_parameter_requires_grad(model.features, requires_grad=True)\n",
    "else:\n",
    "    set_parameter_requires_grad(model, requires_grad=True)\n",
    "train(model,5,1e-4,robust=False,op=optim.Adam) #6"
   ]
  },
  {
   "cell_type": "code",
   "execution_count": 49,
   "metadata": {},
   "outputs": [],
   "source": [
    "if True:\n",
    "    best_model=copy.deepcopy(model.state_dict())\n",
    "else:\n",
    "    model.load_state_dict(best_model)"
   ]
  },
  {
   "cell_type": "code",
   "execution_count": 24,
   "metadata": {},
   "outputs": [
    {
     "data": {
      "application/vnd.jupyter.widget-view+json": {
       "model_id": "df90e2a7d6324587939113d5518b4fb4",
       "version_major": 2,
       "version_minor": 0
      },
      "text/plain": [
       "  0%|          | 0/2889 [00:00<?, ?it/s]"
      ]
     },
     "metadata": {},
     "output_type": "display_data"
    },
    {
     "name": "stdout",
     "output_type": "stream",
     "text": [
      "(4670,) (4670,)\n",
      "Epoch : 1 - loss : 1.5439 - acc: 0.8462 - val_acc: 0.6531 - val_f1: 0.5985\n",
      "\n"
     ]
    },
    {
     "data": {
      "application/vnd.jupyter.widget-view+json": {
       "model_id": "4ef672f51ed940e399896ebf803f45d7",
       "version_major": 2,
       "version_minor": 0
      },
      "text/plain": [
       "  0%|          | 0/2889 [00:00<?, ?it/s]"
      ]
     },
     "metadata": {},
     "output_type": "display_data"
    },
    {
     "name": "stdout",
     "output_type": "stream",
     "text": [
      "(4670,) (4670,)\n",
      "Epoch : 2 - loss : 1.3221 - acc: 0.8352 - val_acc: 0.6443 - val_f1: 0.5871\n",
      "\n",
      "Best acc:0.5985033018423979\n",
      "val_acc: 0.6543\n",
      "\n"
     ]
    }
   ],
   "source": [
    "train(model,2,1e-4,use_sam=True,optimizer=optim.SGD)\n",
    "#Best acc:0.6589616537094116"
   ]
  },
  {
   "cell_type": "code",
   "execution_count": 24,
   "metadata": {},
   "outputs": [
    {
     "name": "stdout",
     "output_type": "stream",
     "text": [
      "/home/HDD6TB/datasets/emotions/ABAW/eccv_4/validation_set_real_images Compose(\n",
      "    Resize(size=(224, 224), interpolation=PIL.Image.BILINEAR)\n",
      "    ToTensor()\n",
      "    Normalize(mean=[0.485, 0.456, 0.406], std=[0.229, 0.224, 0.225])\n",
      ")\n"
     ]
    },
    {
     "data": {
      "application/vnd.jupyter.widget-view+json": {
       "model_id": "2bcbd6bc442d48e382bcb9bfa1ffb8da",
       "version_major": 2,
       "version_minor": 0
      },
      "text/plain": [
       "  0%|          | 0/6 [00:00<?, ?it/s]"
      ]
     },
     "metadata": {},
     "output_type": "display_data"
    },
    {
     "name": "stdout",
     "output_type": "stream",
     "text": [
      "(4670, 6) (4670,)\n"
     ]
    }
   ],
   "source": [
    "y_val,y_scores_val=[],[]\n",
    "model.eval()\n",
    "\n",
    "d=test_dir\n",
    "#d=DATA_DIR / 'SR/validation_set_real_images'\n",
    "print(d,test_transforms)\n",
    "for class_name in tqdm(os.listdir(d)):\n",
    "    if class_name in class_to_idx:\n",
    "        class_dir=d / class_name\n",
    "        y=class_to_idx[class_name]\n",
    "        imgs=[]\n",
    "        for img_name in os.listdir(class_dir):\n",
    "            filepath=class_dir / img_name\n",
    "            if str(filepath).lower().endswith('.jpg'):\n",
    "                img = Image.open(filepath)\n",
    "                if img.size:\n",
    "                    img_tensor = test_transforms(img)\n",
    "                    imgs.append(img_tensor)\n",
    "                    y_val.append(y)\n",
    "                    if len(imgs)>32:        \n",
    "                        scores = model(torch.stack(imgs, dim=0).to(device))\n",
    "                        scores=scores.data.cpu().numpy()\n",
    "                        #print(scores.shape)\n",
    "\n",
    "                        if len(y_scores_val)==0:\n",
    "                            y_scores_val=scores\n",
    "                        else:\n",
    "                            y_scores_val=np.concatenate((y_scores_val,scores),axis=0)\n",
    "                        imgs=[]\n",
    "\n",
    "        if len(imgs)>0:        \n",
    "            scores = model(torch.stack(imgs, dim=0).to(device))\n",
    "            scores=scores.data.cpu().numpy()\n",
    "            #print(scores.shape)\n",
    "\n",
    "            if len(y_scores_val)==0:\n",
    "                y_scores_val=scores\n",
    "            else:\n",
    "                y_scores_val=np.concatenate((y_scores_val,scores),axis=0)\n",
    "y_val=np.array(y_val)\n",
    "print(y_scores_val.shape,y_val.shape)"
   ]
  },
  {
   "cell_type": "code",
   "execution_count": 25,
   "metadata": {},
   "outputs": [
    {
     "name": "stdout",
     "output_type": "stream",
     "text": [
      "74.71092077087795\n",
      "(0.6728896450510998, 0.7471092077087794, [0.832579185520362, 0.7710843373493975, 0.2188449848024316, 0.8628013777267509, 0.7160068846815835, 0.6360211002260738])\n",
      "ANGRER acc: 80.099502\n",
      "DISGUST acc: 88.888889\n",
      "FEAR acc: 13.766730\n",
      "HAPPINESS acc: 87.689615\n",
      "SADNESS acc: 80.620155\n",
      "SURPRISE acc: 69.983416\n"
     ]
    }
   ],
   "source": [
    "y_pred=np.argmax(y_scores_val,axis=1)\n",
    "acc=100.0*(y_val==y_pred).sum()/len(y_val)\n",
    "print(acc)\n",
    "print(metric_for_Exp(gt=y_val,pred=y_pred))\n",
    "\n",
    "if False:\n",
    "    y_train=np.array(train_dataset.targets)\n",
    "\n",
    "    for i in range(y_scores_val.shape[1]):\n",
    "        _val_acc=(y_pred[y_val==i]==i).sum()/(y_val==i).sum()\n",
    "        print('%s %d/%d acc: %f' %(idx_to_class[i],(y_train==i).sum(),(y_val==i).sum(),100*_val_acc))\n",
    "else:\n",
    "    for i in range(y_scores_val.shape[1]):\n",
    "        _val_acc=(y_pred[y_val==i]==i).sum()/(y_val==i).sum()\n",
    "        print('%s acc: %f' %(idx_to_class[i],100*_val_acc))"
   ]
  },
  {
   "cell_type": "code",
   "execution_count": 32,
   "metadata": {},
   "outputs": [
    {
     "name": "stdout",
     "output_type": "stream",
     "text": [
      "(4670,) (4670,) 0.7471092077087794\n"
     ]
    },
    {
     "data": {
      "image/png": "[encoded data removed]",
      "text/plain": [
       "<Figure size 576x576 with 1 Axes>"
      ]
     },
     "metadata": {
      "needs_background": "light"
     },
     "output_type": "display_data"
    }
   ],
   "source": [
    "IC = type('IdentityClassifier', (), {\"predict\": lambda i : i, \"_estimator_type\": \"classifier\"})\n",
    "import matplotlib.pyplot as plt\n",
    "from sklearn.metrics import plot_confusion_matrix\n",
    "def plt_conf_matrix(y_true,y_pred,filename=None):\n",
    "    print(y_pred.shape,y_true.shape, (y_pred==y_true).mean())\n",
    "\n",
    "    fig, ax = plt.subplots(figsize=(8, 8))\n",
    "    #plot_confusion_matrix(IC, y_pred,y_true,display_labels=['0','0.33','0.66','1'],cmap=plt.cm.Blues,ax=ax) #,normalize='true'\n",
    "    plot_confusion_matrix(IC, y_pred,y_true,display_labels=list(idx_to_class.values()),cmap=plt.cm.Blues,ax=ax,colorbar=False) #,normalize='true'\n",
    "    plt.tight_layout()\n",
    "    plt.show()\n",
    "plt_conf_matrix(y_val,y_pred)"
   ]
  },
  {
   "cell_type": "markdown",
   "metadata": {},
   "source": [
    "enet0_vgaf\n",
    "pre-trained\n",
    "65.78158458244111\n",
    "(0.5934796285071012, 0.6578158458244111, [0.7771124417831005, 0.6078184110970996, 0.16384915474642392, 0.8159303882195447, 0.6519083969465649, 0.5442589782498735])\n",
    "\n",
    "\n",
    "finetuned\n",
    "73.85438972162741\n",
    "(0.654354139057469, 0.7385438972162741, [0.8022813688212929, 0.7804878048780488, 0.11182108626198083, 0.8706921944035346, 0.7078099399235391, 0.6530324400564175])\n",
    "\n",
    "\n",
    "other - enet0_vgaf_synth\n",
    "f1 0.61\n",
    "64.26124197002142\n",
    "(0.588025705476551, 0.6426124197002141, [0.7812709030100333, 0.704, 0.18242491657397109, 0.8293471234647706, 0.515230635335074, 0.5158806544754572])\n",
    "ANGRER acc: 72.636816\n",
    "DISGUST acc: 87.301587\n",
    "FEAR acc: 15.678776\n",
    "HAPPINESS acc: 74.854142\n",
    "SADNESS acc: 38.242894\n",
    "SURPRISE acc: 88.888889\n",
    "\n",
    "finetuned\n",
    "73.31905781584582\n",
    "(0.6490162649017471, 0.7331905781584582, [0.7989347536617843, 0.783132530120482, 0.1199400299850075, 0.8785933575216299, 0.6816431322207959, 0.6318537859007832])\n",
    "ANGRER acc: 74.626866\n",
    "DISGUST acc: 77.380952\n",
    "FEAR acc: 7.648184\n",
    "HAPPINESS acc: 91.831972\n",
    "SADNESS acc: 68.604651\n",
    "SURPRISE acc: 80.265340\n",
    "\n",
    "\n",
    "SR: enet0_vgaf_synth_sr\n",
    "65.80299785867237\n",
    "(0.6063618790046222, 0.6580299785867237, [0.7800882167611847, 0.6826516220028208, 0.21616161616161617, 0.8252714708785786, 0.5852534562211982, 0.5487448920023351])\n",
    "ANGRER acc: 76.990050\n",
    "DISGUST acc: 96.031746\n",
    "FEAR acc: 20.458891\n",
    "HAPPINESS acc: 73.162194\n",
    "SADNESS acc: 49.224806\n",
    "SURPRISE acc: 77.943615\n",
    "\n",
    "finetuned\n",
    "73.66167023554604\n",
    "(0.6674443847218857, 0.7366167023554604, [0.8130718954248366, 0.7806563039723663, 0.17678100263852242, 0.8706022659511031, 0.7361809045226132, 0.627373935821873])\n",
    "ANGRER acc: 77.363184\n",
    "DISGUST acc: 89.682540\n",
    "FEAR acc: 12.810707\n",
    "HAPPINESS acc: 85.180863\n",
    "SADNESS acc: 75.710594\n",
    "SURPRISE acc: 79.436153\n",
    "\n",
    "\n",
    "SR+augmentation\n",
    "63.70449678800856\n",
    "(0.5993702871581568, 0.6370449678800857, [0.7980965329707681, 0.6246786632390745, 0.25539906103286386, 0.7794117647058824, 0.6091228070175438, 0.529512893982808])\n",
    "finetuned\n",
    "73.83297644539614\n",
    "(0.6718416735225636, 0.7383297644539615, [0.8289473684210528, 0.819614711033275, 0.18579234972677597, 0.8821385176184691, 0.705120659211301, 0.6094364351245085])\n",
    "\n",
    "pretraind weights:\n",
    "(0.5972238146661198, 0.6659528907922913, [0.6810089020771514, 0.5446685878962535, 0.2121212121212121, 0.8410789730256744, 0.6822429906542056, 0.6222222222222221])\n",
    "finetuned:\n",
    "(0.6630533078741039, 0.7254817987152035, [0.8121059268600253, 0.7950089126559715, 0.18585298196948682, 0.8482932996207332, 0.6940494997367035, 0.6430092264017033])\n",
    "\n",
    "rmsprop synth sr\n",
    "(0.5728653818870095, 0.6117773019271948, [0.784625579854208, 0.6392572944297082, 0.1774042950513539, 0.7675485008818342, 0.5535574667709148, 0.5147991543340381])\n",
    "\n",
    "finetuned\n",
    "73.25481798715204\n",
    "(0.6612836822606303, 0.7325481798715203, [0.7961826857532379, 0.8028169014084506, 0.14641288433382138, 0.8691878487290762, 0.7387978142076503, 0.6143039591315453])\n",
    "\n",
    "\n",
    "mtl\n",
    "(0.6198286464927475, 0.6702355460385439, [0.7741496598639457, 0.6177606177606177, 0.31215970961887485, 0.8359960873818063, 0.6494512588766946, 0.5294545454545455])\n",
    "ANGRER acc: 70.771144\n",
    "DISGUST acc: 95.238095\n",
    "FEAR acc: 32.887189\n",
    "HAPPINESS acc: 74.795799\n",
    "SADNESS acc: 64.987080\n",
    "SURPRISE acc: 60.364842\n",
    "\n",
    "finetuned\n",
    "(0.6728896450510998, 0.7471092077087794, [0.832579185520362, 0.7710843373493975, 0.2188449848024316, 0.8628013777267509, 0.7160068846815835, 0.6360211002260738])\n",
    "ANGRER acc: 80.099502\n",
    "DISGUST acc: 88.888889\n",
    "FEAR acc: 13.766730\n",
    "HAPPINESS acc: 87.689615\n",
    "SADNESS acc: 80.620155\n",
    "SURPRISE acc: 69.983416\n",
    "\n",
    "mtl orig (no SR)\n",
    "(0.6110638230564416, 0.6918629550321199, [0.7706666666666667, 0.6554621848739496, 0.17326732673267325, 0.8649282156460593, 0.6015037593984962, 0.6005547850208045])\n",
    "finetuned\n",
    "(0.6324464232527586, 0.7267665952890793, [0.78397898883782, 0.6938775510204083, 0.11128775834658187, 0.8548168249660787, 0.6708307307932543, 0.6798866855524079])\n",
    "\n",
    "\n",
    "tta\n",
    "72.20556745182013\n",
    "(0.626916572476696, 0.7220556745182013, [0.8007312614259596, 0.7290076335877862, 0.08077544426494344, 0.8729698375870069, 0.6551083591331269, 0.6229068988613531])\n",
    "\n",
    "\n",
    "no SAM\n",
    "63.25481798715204\n",
    "(0.5828531728429681, 0.6325481798715203, [0.7791005291005291, 0.6920821114369501, 0.22175290390707497, 0.8043478260869564, 0.46938775510204084, 0.5304479114242577])\n",
    "\n",
    "finetuned\n",
    "73.81156316916488\n",
    "(0.6632949616250127, 0.7381156316916488, [0.7873910127431253, 0.7841584158415842, 0.18448023426061494, 0.870848708487085, 0.6990179087232814, 0.6538734896943851])\n",
    "\n",
    "\n",
    "\n",
    "112x112\n",
    "56.42398286937902\n",
    "(0.5076140416761095, 0.5642398286937902, [0.6253644314868805, 0.526896551724138, 0.35036496350364965, 0.7487593052109182, 0.3326848249027237, 0.4616141732283465])\n",
    "\n",
    "\n",
    "finetuned\n",
    "68.8865096359743\n",
    "(0.607469077914598, 0.688865096359743, [0.7378917378917379, 0.7009966777408637, 0.11940298507462688, 0.8447717231222387, 0.6411543287327478, 0.6005970149253731])\n",
    "\n",
    "\n",
    "\n",
    "\n",
    "class_weights:\n",
    "73.94004282655246\n",
    "(0.6582644236257021, 0.7394004282655247, [0.7997320830542531, 0.7231638418079096, 0.18707015130674004, 0.8734559429041998, 0.6773809523809524, 0.6887835703001579])\n",
    "ANGRER acc: 74.253731\n",
    "DISGUST acc: 76.190476\n",
    "FEAR acc: 13.001912\n",
    "HAPPINESS acc: 92.823804\n",
    "SADNESS acc: 73.514212\n",
    "SURPRISE acc: 72.305141\n",
    "\n",
    "finetuned\n",
    "74.23982869379014\n",
    "(0.6460185636537498, 0.7423982869379016, [0.8089005235602096, 0.6845637583892618, 0.10591900311526481, 0.8659217877094972, 0.7168000000000001, 0.694006309148265])\n",
    "ANGRER acc: 76.865672\n",
    "DISGUST acc: 60.714286\n",
    "FEAR acc: 6.500956\n",
    "HAPPINESS acc: 90.431739\n",
    "SADNESS acc: 86.821705\n",
    "SURPRISE acc: 72.968491\n",
    "\n",
    "\n",
    "\n",
    "\n",
    "enet0_afew\n",
    "65.61027837259101\n",
    "(0.5979312204512576, 0.65610278372591, [0.7397959183673469, 0.7122861586314151, 0.21166306695464365, 0.8321853475266124, 0.5216680294358136, 0.5699888017917133])\n",
    "\n",
    "\n",
    "finetuned\n",
    "71.77730192719486\n",
    "(0.6274366335531597, 0.7177730192719486, [0.8027043638598648, 0.7861060329067641, 0.041666666666666664, 0.8615937687237868, 0.6570713391739674, 0.6154776299879082])\n",
    "\n",
    "\n",
    "\n",
    "enet_b2_8\n",
    "67.21627408993577\n",
    "(0.5988878018248252, 0.6721627408993576, [0.7120055517002082, 0.6804451510333863, 0.1659634317862166, 0.8386308068459658, 0.6202450032237267, 0.5760368663594471])\n",
    "\n",
    "finetuned\n",
    "73.08351177730192\n",
    "(0.6411837846751335, 0.7308351177730192, [0.7857142857142856, 0.707165109034268, 0.12824427480916029, 0.8810232004759072, 0.6738148984198645, 0.6711409395973154])"
   ]
  },
  {
   "cell_type": "markdown",
   "metadata": {},
   "source": [
    "--------------"
   ]
  },
  {
   "cell_type": "code",
   "execution_count": 22,
   "metadata": {},
   "outputs": [
    {
     "name": "stdout",
     "output_type": "stream",
     "text": [
      "../../../emotions-multimodal/faces/ABAW/abaw4/enet0_mtl_synth_sr.pt\n"
     ]
    }
   ],
   "source": [
    "#FT_PATH = \"enet0_vgaf_synth.pt\" #0.6460185636537498, 0.7423982869379016\n",
    "#FT_PATH = \"enet0_vgaf_synth_sr.pt\" #(0.6718416735225636, 0.7383297644539615\n",
    "\n",
    "#FT_PATH = \"enet0_mtl_synth_sr_head.pt\" #0.6198286464927475, 0.6702355460385439\n",
    "FT_PATH = \"enet0_mtl_synth_sr.pt\" #(0.6728896450510998, 0.7471092077087794\n",
    "\n",
    "FT_PATH='../../../emotions-multimodal/faces/ABAW/abaw4/'+FT_PATH\n",
    "print(FT_PATH)"
   ]
  },
  {
   "cell_type": "code",
   "execution_count": 49,
   "metadata": {},
   "outputs": [],
   "source": [
    "# Save\n",
    "if False:\n",
    "    torch.save(model, FT_PATH)"
   ]
  },
  {
   "cell_type": "code",
   "execution_count": 23,
   "metadata": {},
   "outputs": [
    {
     "name": "stdout",
     "output_type": "stream",
     "text": [
      "../../../emotions-multimodal/faces/ABAW/abaw4/enet0_mtl_synth_sr.pt\n"
     ]
    }
   ],
   "source": [
    "# Load\n",
    "print(FT_PATH)\n",
    "model = torch.load(FT_PATH)"
   ]
  },
  {
   "cell_type": "markdown",
   "metadata": {},
   "source": [
    "# Ensemble"
   ]
  },
  {
   "cell_type": "code",
   "execution_count": 26,
   "metadata": {},
   "outputs": [
    {
     "name": "stdout",
     "output_type": "stream",
     "text": [
      "0.0 (0.6728896450510998, 0.7471092077087794, [0.832579185520362, 0.7710843373493975, 0.2188449848024316, 0.8628013777267509, 0.7160068846815835, 0.6360211002260738])\n",
      "0.1 (0.6758221559080676, 0.7511777301927195, [0.8311688311688312, 0.759535655058043, 0.2225519287833828, 0.8701449275362318, 0.7286202964652224, 0.6429112964366945])\n",
      "0.2 (0.6804378545375007, 0.7556745182012848, [0.8302872062663186, 0.755700325732899, 0.22575976845151954, 0.8756218905472638, 0.7447651386530842, 0.6504927975739195])\n",
      "0.30000000000000004 (0.6818314932370502, 0.7569593147751607, [0.8257725180802103, 0.750402576489533, 0.22562674094707522, 0.8834319526627219, 0.7501410039481106, 0.6556141672946496])\n",
      "0.4 (0.6808765627315276, 0.7550321199143469, [0.827037773359841, 0.7312500000000001, 0.23324396782841825, 0.8840970350404312, 0.7519729425028184, 0.6576576576576576])\n",
      "0.5 (0.6767668912840116, 0.7505353319057816, [0.8176943699731903, 0.7158218125960062, 0.23146944083224963, 0.8839745531657073, 0.7519553072625699, 0.6596858638743456])\n",
      "0.6000000000000001 (0.6707243815626224, 0.745610278372591, [0.8106666666666668, 0.687211093990755, 0.23214285714285712, 0.8829656862745099, 0.7491675915649277, 0.6621923937360179])\n",
      "0.7000000000000001 (0.6595461239374906, 0.7342612419700214, [0.7873485868102288, 0.6495468277945619, 0.24378109452736318, 0.8765508684863524, 0.7447744774477448, 0.6552748885586924])\n",
      "0.8 (0.6449949171107824, 0.7188436830835118, [0.7648261758691206, 0.6041666666666667, 0.25331724969843183, 0.8626339004410837, 0.7395776935571197, 0.6454478164322724])\n",
      "0.9 (0.6261319008542955, 0.7034261241970021, [0.7501730103806229, 0.5555555555555556, 0.23696682464454974, 0.8556962025316457, 0.7245444801714899, 0.633855331841909])\n",
      "1.0 (0.6094158203574996, 0.6882226980728051, [0.7262569832402234, 0.5073313782991203, 0.23831775700934577, 0.8456375838926175, 0.7091004734350342, 0.6298507462686567])\n"
     ]
    }
   ],
   "source": [
    "for w in np.linspace(0,1,11):\n",
    "    y_ensemble=w*y_scores_val_filtered+(1-w)*y_scores_val\n",
    "    y_pred=np.argmax(y_ensemble,axis=1)\n",
    "    acc=100.0*(y_val==y_pred).sum()/len(y_val)\n",
    "    print(w,metric_for_Exp(gt=y_val,pred=y_pred))"
   ]
  },
  {
   "cell_type": "markdown",
   "metadata": {},
   "source": [
    "pre-trained:\n",
    "1.0 (0.5972238146661198, 0.6659528907922913, [0.6810089020771514, 0.5446685878962535, 0.2121212121212121, 0.8410789730256744, 0.6822429906542056, 0.6222222222222221])\n",
    "\n",
    "ensemble:\n",
    "\"enet0_vgaf_synth.pt\" #0.6460185636537498, 0.7423982869379016\n",
    "0.0 (0.6466857196469123, 0.7406852248394005, [0.7997293640054127, 0.7587476979742174, 0.07886435331230283, 0.8817927170868348, 0.7117008443908324, 0.6492793411118737])\n",
    "0.2 (0.6742077497457526, 0.7578158458244111, [0.8094594594594595, 0.7849829351535835, 0.1402002861230329, 0.9014248328002326, 0.7410817031070196, 0.6680972818311874])\n",
    "\n",
    "enet0_vgaf_synth_sr\n",
    "old\n",
    "0.0 (0.6674443847218857, 0.7366167023554604, [0.8130718954248366, 0.7806563039723663, 0.17678100263852242, 0.8706022659511031, 0.7361809045226132, 0.627373935821873])\n",
    "0.2 (0.6787264171576318, 0.7492505353319058, [0.8160843770599868, 0.7573770491803279, 0.20512820512820515, 0.8841149773071104, 0.7531231409875074, 0.6565307532826538])\n",
    "\n",
    "latest\n",
    "0.0 (0.6718416735225636, 0.7383297644539615, [0.8289473684210528, 0.819614711033275, 0.18579234972677597, 0.8821385176184691, 0.705120659211301, 0.6094364351245085])\n",
    "0.30000000000000004 (0.6845951242198453, 0.7486081370449679, [0.8215712383488681, 0.7845117845117845, 0.22415940224159403, 0.8865598027127004, 0.7293064876957494, 0.6614620298083748])\n",
    "\n",
    "enet0_mtl_synth_sr\n",
    "0.0 (0.6728896450510998, 0.7471092077087794, [0.832579185520362, 0.7710843373493975, 0.2188449848024316, 0.8628013777267509, 0.7160068846815835, 0.6360211002260738])\n",
    "0.30000000000000004 (0.6818314932370502, 0.7569593147751607, [0.8257725180802103, 0.750402576489533, 0.22562674094707522, 0.8834319526627219, 0.7501410039481106, 0.6556141672946496])\n",
    "\n",
    "enet0_mtl np sr\n",
    "0.0 (0.6324464232527586, 0.7267665952890793, [0.78397898883782, 0.6938775510204083, 0.11128775834658187, 0.8548168249660787, 0.6708307307932543, 0.6798866855524079])\n",
    "0.4 (0.6675524629718682, 0.7524625267665953, [0.8021319120586274, 0.7133333333333333, 0.16759776536312848, 0.8931074766355139, 0.7254672897196262, 0.7036770007209805])"
   ]
  },
  {
   "cell_type": "code",
   "execution_count": 36,
   "metadata": {},
   "outputs": [
    {
     "name": "stdout",
     "output_type": "stream",
     "text": [
      "Pre-trained\n",
      "(0.6094158203574996, 0.6882226980728051, [0.7262569832402234, 0.5073313782991203, 0.23831775700934577, 0.8456375838926175, 0.7091004734350342, 0.6298507462686567])\n",
      "(4670,) (4670,) 0.6882226980728051\n"
     ]
    },
    {
     "data": {
      "image/png": "[encoded data removed]",
      "text/plain": [
       "<Figure size 576x576 with 1 Axes>"
      ]
     },
     "metadata": {
      "needs_background": "light"
     },
     "output_type": "display_data"
    }
   ],
   "source": [
    "print('Pre-trained')\n",
    "y_pred=np.argmax(y_scores_val_filtered,axis=1)\n",
    "print(metric_for_Exp(gt=y_val,pred=y_pred))\n",
    "plt_conf_matrix(y_val,y_pred)"
   ]
  },
  {
   "cell_type": "code",
   "execution_count": 35,
   "metadata": {},
   "outputs": [
    {
     "name": "stdout",
     "output_type": "stream",
     "text": [
      "Ensemble\n",
      "(0.6818314932370502, 0.7569593147751607, [0.8257725180802103, 0.750402576489533, 0.22562674094707522, 0.8834319526627219, 0.7501410039481106, 0.6556141672946496])\n",
      "(4670,) (4670,) 0.7569593147751607\n"
     ]
    },
    {
     "data": {
      "image/png": "[encoded data removed]",
      "text/plain": [
       "<Figure size 576x576 with 1 Axes>"
      ]
     },
     "metadata": {
      "needs_background": "light"
     },
     "output_type": "display_data"
    }
   ],
   "source": [
    "print('Ensemble')\n",
    "w=0.3\n",
    "y_ensemble=w*y_scores_val_filtered+(1-w)*y_scores_val\n",
    "y_pred=np.argmax(y_ensemble,axis=1)\n",
    "print(metric_for_Exp(gt=y_val,pred=y_pred))\n",
    "plt_conf_matrix(y_val,y_pred)"
   ]
  },
  {
   "cell_type": "markdown",
   "metadata": {},
   "source": [
    "# Test set results"
   ]
  },
  {
   "cell_type": "code",
   "execution_count": 36,
   "metadata": {},
   "outputs": [
    {
     "name": "stdout",
     "output_type": "stream",
     "text": [
      "106121 ['image,expression', '0.jpg', '1.jpg', '2.jpg', '3.jpg']\n"
     ]
    }
   ],
   "source": [
    "with open(os.path.join(DATA_DIR,'LSD_Challenge_test_set_release.txt'),'r') as f:\n",
    "    test_set_images=f.read().splitlines()\n",
    "print(len(test_set_images),test_set_images[:5])"
   ]
  },
  {
   "cell_type": "code",
   "execution_count": 48,
   "metadata": {},
   "outputs": [
    {
     "data": {
      "application/vnd.jupyter.widget-view+json": {
       "model_id": "358bc7e80da1431f9bd99a4875bd9f0b",
       "version_major": 2,
       "version_minor": 0
      },
      "text/plain": [
       "  0%|          | 0/106120 [00:00<?, ?it/s]"
      ]
     },
     "metadata": {},
     "output_type": "display_data"
    },
    {
     "name": "stdout",
     "output_type": "stream",
     "text": [
      "(106120, 6)\n"
     ]
    }
   ],
   "source": [
    "model.eval()\n",
    "\n",
    "y_pred_test=[]\n",
    "imgs=[]\n",
    "for img_name in tqdm(test_set_images[1:]):\n",
    "    if img_name.lower().endswith('.jpg'):\n",
    "        filepath=final_test_dir / img_name\n",
    "        img = Image.open(filepath)\n",
    "        img_tensor = test_transforms(img)\n",
    "        if img.size:\n",
    "            imgs.append(img_tensor)\n",
    "            if len(imgs)>=64: #96: #48: #32:\n",
    "                imgs=torch.stack(imgs, dim=0).to(device)\n",
    "                scores = model(imgs)\n",
    "                scores=scores.data.cpu().numpy()\n",
    "\n",
    "                if len(y_pred_test)==0:\n",
    "                    y_pred_test=scores\n",
    "                else:\n",
    "                    y_pred_test=np.concatenate((y_pred_test,scores),axis=0)\n",
    "                imgs=[]\n",
    "\n",
    "if len(imgs)>0:        \n",
    "    imgs=torch.stack(imgs, dim=0).to(device)\n",
    "    scores = model(imgs)\n",
    "    scores=scores.data.cpu().numpy()\n",
    "\n",
    "    if len(y_pred_test)==0:\n",
    "        y_pred_test=scores\n",
    "    else:\n",
    "        y_pred_test=np.concatenate((y_pred_test,scores),axis=0)\n",
    "\n",
    "print(y_pred_test.shape)"
   ]
  },
  {
   "cell_type": "code",
   "execution_count": 38,
   "metadata": {},
   "outputs": [
    {
     "data": {
      "application/vnd.jupyter.widget-view+json": {
       "model_id": "993acba4211c496fb04197f354eb465e",
       "version_major": 2,
       "version_minor": 0
      },
      "text/plain": [
       "  0%|          | 0/106120 [00:00<?, ?it/s]"
      ]
     },
     "metadata": {},
     "output_type": "display_data"
    },
    {
     "name": "stdout",
     "output_type": "stream",
     "text": [
      "(106120, 10)\n"
     ]
    }
   ],
   "source": [
    "y_pred_test_pretrained=[]\n",
    "pretrained_model.eval()\n",
    "\n",
    "imgs=[]\n",
    "for img_name in tqdm(test_set_images[1:]):\n",
    "    if img_name.lower().endswith('.jpg'):\n",
    "        filepath=final_test_dir / img_name\n",
    "        img = Image.open(filepath)\n",
    "        img_tensor = test_transforms(img)\n",
    "        if img.size:\n",
    "            imgs.append(img_tensor)\n",
    "            if len(imgs)>=64: #96: #48: #32:\n",
    "                imgs=torch.stack(imgs, dim=0).to(device)\n",
    "                scores_pretrained = pretrained_model(imgs)\n",
    "                scores_pretrained=scores_pretrained.data.cpu().numpy()\n",
    "                \n",
    "                if len(y_pred_test_pretrained)==0:\n",
    "                    y_pred_test_pretrained=scores_pretrained\n",
    "                else:\n",
    "                    y_pred_test_pretrained=np.concatenate((y_pred_test_pretrained,scores_pretrained),axis=0)\n",
    "                imgs=[]\n",
    "\n",
    "if len(imgs)>0:        \n",
    "    imgs=torch.stack(imgs, dim=0).to(device)\n",
    "    scores_pretrained = pretrained_model(imgs)\n",
    "    scores_pretrained=scores_pretrained.data.cpu().numpy()\n",
    "\n",
    "    if len(y_pred_test_pretrained)==0:\n",
    "        y_pred_test_pretrained=scores_pretrained\n",
    "    else:\n",
    "        y_pred_test_pretrained=np.concatenate((y_pred_test_pretrained,scores_pretrained),axis=0)\n",
    "\n",
    "print(y_pred_test_pretrained.shape)"
   ]
  },
  {
   "cell_type": "code",
   "execution_count": 39,
   "metadata": {},
   "outputs": [],
   "source": [
    "resdir=DATA_DIR /'test_results/LSD'\n",
    "if not os.path.exists(resdir):\n",
    "    os.makedirs(resdir)\n",
    "header = 'image,expression\\n'"
   ]
  },
  {
   "cell_type": "code",
   "execution_count": 40,
   "metadata": {},
   "outputs": [
    {
     "name": "stdout",
     "output_type": "stream",
     "text": [
      "(106120, 6)\n",
      "(106120,)\n"
     ]
    }
   ],
   "source": [
    "y_scores_test_filtered=y_pred_test_pretrained[:, indices]\n",
    "print(y_scores_test_filtered.shape)\n",
    "y_expr=np.argmax(y_scores_test_filtered,axis=1)\n",
    "print(y_expr.shape)\n",
    "\n",
    "with open(os.path.join(resdir,'1_preds_pretrained.txt'), 'w') as f:\n",
    "    f.write(header)\n",
    "    for i in range(len(y_pred_test_pretrained)):\n",
    "        s=test_set_images[i+1]+','+str(y_expr[i])+'\\n'\n",
    "        f.write(s)"
   ]
  },
  {
   "cell_type": "code",
   "execution_count": 41,
   "metadata": {},
   "outputs": [
    {
     "name": "stdout",
     "output_type": "stream",
     "text": [
      "(106120,)\n"
     ]
    }
   ],
   "source": [
    "y_expr=np.argmin(y_pred_test,axis=1)\n",
    "print(y_expr.shape)\n",
    "with open(os.path.join(resdir,'2_preds_finetuned_head.txt'), 'w') as f: #'4_preds_finetuned_all.txt'\n",
    "    f.write(header)\n",
    "    for i in range(len(y_pred_test_pretrained)):\n",
    "        s=test_set_images[i+1]+','+str(y_expr[i])+'\\n'\n",
    "        f.write(s)"
   ]
  },
  {
   "cell_type": "code",
   "execution_count": 42,
   "metadata": {},
   "outputs": [
    {
     "name": "stdout",
     "output_type": "stream",
     "text": [
      "(106120, 6)\n",
      "(106120,)\n"
     ]
    }
   ],
   "source": [
    "w=0.5\n",
    "y_scores_test_filtered=y_pred_test_pretrained[:, indices]\n",
    "print(y_scores_test_filtered.shape)\n",
    "y_ensemble=w*y_scores_test_filtered+(1-w)*y_pred_test\n",
    "y_expr=np.argmax(y_ensemble,axis=1)\n",
    "print(y_expr.shape)\n",
    "\n",
    "with open(os.path.join(resdir,'3_preds_ensemble_head.txt'), 'w') as f: #'5_preds_ensemble_all.txt'\n",
    "    f.write(header)\n",
    "    for i in range(len(y_pred_test_pretrained)):\n",
    "        s=test_set_images[i+1]+','+str(y_expr[i])+'\\n'\n",
    "        f.write(s)"
   ]
  }
 ],
 "metadata": {
  "kernelspec": {
   "display_name": "Python 3",
   "language": "python",
   "name": "python3"
  },
  "language_info": {
   "codemirror_mode": {
    "name": "ipython",
    "version": 3
   },
   "file_extension": ".py",
   "mimetype": "text/x-python",
   "name": "python",
   "nbconvert_exporter": "python",
   "pygments_lexer": "ipython3",
   "version": "3.8.10"
  }
 },
 "nbformat": 4,
 "nbformat_minor": 2
}
